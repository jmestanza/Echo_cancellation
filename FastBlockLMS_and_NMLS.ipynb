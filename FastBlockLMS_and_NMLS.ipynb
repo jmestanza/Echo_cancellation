{
  "nbformat": 4,
  "nbformat_minor": 0,
  "metadata": {
    "colab": {
      "name": "Copia de FastBlockLMS and NMLS.ipynb",
      "provenance": [],
      "collapsed_sections": [],
      "toc_visible": true,
      "machine_shape": "hm",
      "include_colab_link": true
    },
    "kernelspec": {
      "name": "python3",
      "display_name": "Python 3"
    },
    "accelerator": "GPU"
  },
  "cells": [
    {
      "cell_type": "markdown",
      "metadata": {
        "id": "view-in-github",
        "colab_type": "text"
      },
      "source": [
        "<a href=\"https://colab.research.google.com/github/jmestanza/PASA_TP1_Echo_cancellation/blob/master/FastBlockLMS_and_NMLS.ipynb\" target=\"_parent\"><img src=\"https://colab.research.google.com/assets/colab-badge.svg\" alt=\"Open In Colab\"/></a>"
      ]
    },
    {
      "cell_type": "markdown",
      "metadata": {
        "id": "9Kdy6EbH2MDT",
        "colab_type": "text"
      },
      "source": [
        "## Simulación de la respuesta al impulso de la habitación"
      ]
    },
    {
      "cell_type": "code",
      "metadata": {
        "id": "6-nOPCFyoc5u",
        "colab_type": "code",
        "outputId": "5afc9e27-6f83-4839-d138-1f58a3532f3f",
        "colab": {
          "base_uri": "https://localhost:8080/",
          "height": 211
        }
      },
      "source": [
        "#!/usr/bin/env python3\n",
        "# -*- coding: utf-8 -*-\n",
        "\"\"\" Example for computing the RIR between several sources and receivers in GPU.\n",
        "\"\"\"\n",
        "!pip install https://github.com/DavidDiazGuerra/gpuRIR/zipball/master\n",
        "import numpy as np\n",
        "import numpy.matlib\n",
        "import matplotlib.pyplot as plt\n",
        "from math import ceil\n",
        "\n",
        "import gpuRIR"
      ],
      "execution_count": 0,
      "outputs": [
        {
          "output_type": "stream",
          "text": [
            "Collecting https://github.com/DavidDiazGuerra/gpuRIR/zipball/master\n",
            "\u001b[?25l  Downloading https://github.com/DavidDiazGuerra/gpuRIR/zipball/master\n",
            "\u001b[K     | 2.7MB 1.1MB/s\n",
            "\u001b[?25hBuilding wheels for collected packages: gpuRIR\n",
            "  Building wheel for gpuRIR (setup.py) ... \u001b[?25l\u001b[?25hdone\n",
            "  Created wheel for gpuRIR: filename=gpuRIR-1.2.0-cp36-cp36m-linux_x86_64.whl size=907218 sha256=aaa3fa82b18e7bb39f390a341bd49798caead12b7268e65189aa2b2b1f2d2910\n",
            "  Stored in directory: /tmp/pip-ephem-wheel-cache-s60sz8eu/wheels/d6/80/3f/6af7d0e500b38d174f793d6b8ff6a0984b1eab8b2c8f6665ae\n",
            "Successfully built gpuRIR\n",
            "Installing collected packages: gpuRIR\n",
            "Successfully installed gpuRIR-1.2.0\n"
          ],
          "name": "stdout"
        }
      ]
    },
    {
      "cell_type": "code",
      "metadata": {
        "id": "aBYwi993nr04",
        "colab_type": "code",
        "outputId": "0d17cde5-d090-466b-809d-df5ec6e41e2f",
        "colab": {
          "base_uri": "https://localhost:8080/",
          "height": 454
        }
      },
      "source": [
        "\n",
        "gpuRIR.activateMixedPrecision(False)\n",
        "\n",
        "room_sz = [3,3,2.5]  # Size of the room [m]\n",
        "nb_src = 2  # Number of sources\n",
        "pos_src = np.array([[1,2.9,0.5],[1,2,0.5]]) # Positions of the sources ([m]\n",
        "nb_rcv = 3 # Number of receivers\n",
        "pos_rcv = np.array([[0.5,1,0.5],[1,1,0.5],[1.5,1,0.5]])\t # Position of the receivers [m]\n",
        "orV_rcv = np.matlib.repmat(np.array([0,1,0]), nb_rcv, 1) # Vectors pointing in the same direction than the receivers\n",
        "mic_pattern = \"card\" # Receiver polar pattern\n",
        "abs_weights = [0.9]*5+[0.5] # Absortion coefficient ratios of the walls\n",
        "T60 = 1.0\t # Time for the RIR to reach 60dB of attenuation [s]\n",
        "att_diff = 15.0\t# Attenuation when start using the diffuse reverberation model [dB]\n",
        "att_max = 60.0 # Attenuation at the end of the simulation [dB]\n",
        "fs=16000.0 # Sampling frequency [Hz]\n",
        "\n",
        "beta = gpuRIR.beta_SabineEstimation(room_sz, T60, abs_weights=abs_weights) # Reflection coefficients\n",
        "Tdiff= gpuRIR.att2t_SabineEstimator(att_diff, T60) # Time to start the diffuse reverberation model [s]\n",
        "Tmax = gpuRIR.att2t_SabineEstimator(att_max, T60)\t # Time to stop the simulation [s]\n",
        "nb_img = gpuRIR.t2n( Tdiff, room_sz )\t# Number of image sources in each dimension\n",
        "RIRs = gpuRIR.simulateRIR(room_sz, beta, pos_src, pos_rcv, nb_img, Tmax, fs, Tdiff=Tdiff, orV_rcv=orV_rcv, mic_pattern=mic_pattern)\n",
        "\n",
        "t = np.arange(int(ceil(Tmax * fs))) / fs\n",
        "plt.plot(t, RIRs.reshape(nb_src*nb_rcv, -1).transpose())\n",
        "plt.show()"
      ],
      "execution_count": 0,
      "outputs": [
        {
          "output_type": "stream",
          "text": [
            "Collecting https://github.com/DavidDiazGuerra/gpuRIR/zipball/master\n",
            "\u001b[?25l  Downloading https://github.com/DavidDiazGuerra/gpuRIR/zipball/master\n",
            "\u001b[K     \\ 2.7MB 557kB/s\n",
            "\u001b[?25hBuilding wheels for collected packages: gpuRIR\n",
            "  Building wheel for gpuRIR (setup.py) ... \u001b[?25l\u001b[?25hdone\n",
            "  Created wheel for gpuRIR: filename=gpuRIR-1.2.0-cp36-cp36m-linux_x86_64.whl size=907218 sha256=a8b5b09bd78ca79a9a57683026f719fdfd6830696fe0eff223da3f4c71741aba\n",
            "  Stored in directory: /tmp/pip-ephem-wheel-cache-z168b8f7/wheels/d6/80/3f/6af7d0e500b38d174f793d6b8ff6a0984b1eab8b2c8f6665ae\n",
            "Successfully built gpuRIR\n",
            "Installing collected packages: gpuRIR\n",
            "Successfully installed gpuRIR-1.2.0\n"
          ],
          "name": "stdout"
        },
        {
          "output_type": "display_data",
          "data": {
            "image/png": "[encoded data removed]",
            "text/plain": [
              "<Figure size 432x288 with 1 Axes>"
            ]
          },
          "metadata": {
            "tags": []
          }
        }
      ]
    },
    {
      "cell_type": "markdown",
      "metadata": {
        "id": "9BxGYYXZ2EMm",
        "colab_type": "text"
      },
      "source": [
        "##Obtención de datos de prueba para los algoritmos"
      ]
    },
    {
      "cell_type": "code",
      "metadata": {
        "id": "UBMGUa1lD_0r",
        "colab_type": "code",
        "outputId": "30ff2225-4f4e-4c8b-8537-79ed81b3f1cd",
        "colab": {
          "base_uri": "https://localhost:8080/",
          "height": 51
        }
      },
      "source": [
        "from IPython.display import clear_output\n",
        "\n",
        "!wget \"https://raw.githubusercontent.com/jmestanza/Guia_2_PASA/master/data/grabados/grab_sweep_lento.wav\"\n",
        "!wget \"https://raw.githubusercontent.com/jmestanza/Guia_2_PASA/master/data/originales/sweep_lento.wav\"\n",
        "\n",
        "clear_output()\n",
        "\n",
        "import warnings\n",
        "warnings.filterwarnings(\"ignore\")\n",
        "from scipy.io.wavfile import read\n",
        "import numpy as np\n",
        "import IPython.display as ipd\n",
        "import matplotlib.pyplot as plt\n",
        "import wave, struct, math, random\n",
        "from IPython.display import Audio\n",
        "from scipy import *\n",
        "\n",
        "def sync_signals(u,d,init_delay,evLen,fs):\n",
        "    u = u[int(0):int((evLen)*fs)]\n",
        "    d = d[int((init_delay)*fs):int((init_delay+evLen)*fs)]\n",
        "    return u, d\n",
        "\n",
        "def adjustSignals(fs,u,d):\n",
        "    ##Agrego ceros si alguna señal tiene diferente tamaño\n",
        "    diff = len(u) - len(d)\n",
        "    if(diff > 0):\n",
        "        d = np.concatenate((d,[0 for _ in range(diff)]))\n",
        "    elif(diff < 0):\n",
        "        u = np.concatenate((u,[0 for _ in range(-diff)]))\n",
        "\n",
        "    ##Agrego un segundo de ceros al principio y al final\n",
        "    uZ = np.array([0 for i in range(0,1*fs)])\n",
        "    uZ = np.concatenate((uZ,u))\n",
        "    uZ = np.concatenate((uZ,[0 for i in range(0,1*fs)]))\n",
        "\n",
        "    dZ = np.array([0 for i in range(0,1*fs)])\n",
        "    dZ = np.concatenate((dZ,d))\n",
        "    dZ = np.concatenate((dZ,[0 for i in range(0,1*fs)]))\n",
        "    return uZ,dZ\n",
        "\n",
        "def get_mono_array(stereo_file_name):\n",
        "    file = read(stereo_file_name)\n",
        "    fs = file[0]\n",
        "    datos = np.array(file[1],dtype=float) \n",
        "    if len(np.shape(datos))>1: #si tiene dos canales\n",
        "        ch0 = datos[:, 0]\n",
        "        ch1 = datos[:, 1]\n",
        "        datos = (ch0 + ch1)/2  # o lo hacemos mono\n",
        "    return fs, datos\n",
        "\n",
        "\n",
        "def read_wavs(audio_file,grab_file):\n",
        "    file_name = grab_file\n",
        "    fs, grab_audio = get_mono_array(file_name)\n",
        "    grab_audio /= np.max(np.abs(grab_audio),axis=0)\n",
        "    grab_audio /= np.max(np.abs(grab_audio),axis=0)\n",
        "    grab_audio = grab_audio - np.mean(grab_audio)\n",
        "    print(\"fs de la grabacion \",fs, \"nombre\", file_name)\n",
        "\n",
        "    file_name = audio_file\n",
        "    fs, audio = get_mono_array(file_name)\n",
        "\n",
        "    audio /= np.max(np.abs(audio),axis=0)\n",
        "    audio = audio-np.mean(audio)\n",
        "    print(\"fs del audio \",fs, \"nombre\", file_name)\n",
        "    return audio,grab_audio,fs\n",
        "\n",
        "signals = {'log':['/content/sweep_lento.wav','/content/grab_sweep_lento.wav',0.648,10.936]}\n",
        "\n",
        "sound=\"log\"\n",
        "audio,grab_audio,fs=read_wavs(signals[sound][0],signals[sound][1])\n",
        "\n",
        "u, d= sync_signals(audio,grab_audio,signals[sound][2],signals[sound][3],fs)\n",
        "\n",
        "uZ,dZ=adjustSignals(fs,u,d)\n",
        "\n",
        "\n",
        "#r, p, sigma2d = get_estimations(uZ,dZ)\n",
        "#r1,R,p1,wo,Jmin = get_filter(r,p,100,sigma2d)\n",
        "#estimado = signal.filtfilt(wo,[1],u)"
      ],
      "execution_count": 1,
      "outputs": [
        {
          "output_type": "stream",
          "text": [
            "fs de la grabacion  48000 nombre /content/grab_sweep_lento.wav\n",
            "fs del audio  48000 nombre /content/sweep_lento.wav\n"
          ],
          "name": "stdout"
        }
      ]
    },
    {
      "cell_type": "markdown",
      "metadata": {
        "id": "sWLjuKu51IrC",
        "colab_type": "text"
      },
      "source": [
        "##Algoritmo NLMS"
      ]
    },
    {
      "cell_type": "code",
      "metadata": {
        "id": "0cb3zTfqFKiH",
        "colab_type": "code",
        "outputId": "290b931e-2351-4e63-e987-37a4f4ef3b74",
        "colab": {
          "base_uri": "https://localhost:8080/",
          "height": 265
        }
      },
      "source": [
        "#NLMS Algorithm\n",
        "import numpy as np\n",
        "def normalize(datos):\n",
        "    datos -= np.mean(datos)\n",
        "    datos = np.interp(datos, (datos.min(), datos.max()), (-1, +1)) #normalizamos\n",
        "    return datos\n",
        "\n",
        "def NLMS(M, mu, delta, u, d):\n",
        "    w = np.zeros((M,len(u)))\n",
        "    e = np.zeros(len(u))\n",
        "    u_star = np.zeros(M-1)\n",
        "    uaux = np.concatenate((u_star, u), axis=None)\n",
        "    y = np.zeros(len(u))\n",
        "    energias_u = []\n",
        "    \n",
        "    for i in range(0,len(u)):\n",
        "        if i == 0:\n",
        "            e[0] = d[0] \n",
        "            y[0] = 0\n",
        "            w[:,i]=np.zeros(M)\n",
        "        else:\n",
        "            y[i] = np.dot(w[:,i-1].conj().transpose(),uaux[i:i+M])\n",
        "            e[i] = d[i]-y[i]\n",
        "            energias_u.append(np.dot(uaux[i:i+M],uaux[i:i+M]))\n",
        "            nu = mu/(np.dot(uaux[i:i+M],uaux[i:i+M]) + delta)\n",
        "            w[:,i] = w[:,i-1] + nu *  uaux[i:i+M] * (e[i].conj())\n",
        "    return w, np.power(e,2)/len(e), y, np.array(energias_u)\n",
        "\n",
        "auxuz = uZ[len(uZ)//2:len(uZ)//2+1000]\n",
        "auxdz = dZ[len(dZ)//2:len(dZ)//2+1000]\n",
        "\n",
        "mu = 1\n",
        "delta = 1\n",
        "its = 10\n",
        "M = 10\n",
        "\n",
        "w, J, y, energias_u= NLMS(M, mu, delta, np.flip(auxuz), np.flip(auxdz))\n",
        "\n",
        "plt.plot(y)\n",
        "plt.plot(np.flip(auxdz))\n",
        "plt.show()\n",
        "\n",
        "\n",
        "\n",
        "\n"
      ],
      "execution_count": 2,
      "outputs": [
        {
          "output_type": "display_data",
          "data": {
            "image/png": "[encoded data removed]",
            "text/plain": [
              "<Figure size 432x288 with 1 Axes>"
            ]
          },
          "metadata": {
            "tags": []
          }
        }
      ]
    },
    {
      "cell_type": "code",
      "metadata": {
        "id": "aDEycToN1AXL",
        "colab_type": "code",
        "outputId": "270ab4b4-6c11-417f-ace6-c141d7b38256",
        "colab": {
          "base_uri": "https://localhost:8080/",
          "height": 312
        }
      },
      "source": [
        "#ploteo de las energías de u en histograma para NLMS\n",
        "n, bins, patches = plt.hist(x=energias_u, bins=43, color='#0504aa',\n",
        "                            alpha=0.7, rwidth=0.85)\n",
        "plt.grid(axis='y', alpha=0.75)\n",
        "plt.xlabel('Value')\n",
        "plt.ylabel('Frequency')\n",
        "plt.title('Histograma de las energías de u')\n",
        "maxfreq = n.max()\n",
        "# Set a clean upper y-axis limit.\n",
        "plt.ylim(ymax=np.ceil(maxfreq / 10) * 10 if maxfreq % 10 else maxfreq + 10)"
      ],
      "execution_count": 3,
      "outputs": [
        {
          "output_type": "execute_result",
          "data": {
            "text/plain": [
              "(0.0, 100.0)"
            ]
          },
          "metadata": {
            "tags": []
          },
          "execution_count": 3
        },
        {
          "output_type": "display_data",
          "data": {
            "image/png": "[encoded data removed]",
            "text/plain": [
              "<Figure size 432x288 with 1 Axes>"
            ]
          },
          "metadata": {
            "tags": []
          }
        }
      ]
    },
    {
      "cell_type": "markdown",
      "metadata": {
        "id": "G19VeHIC1QXK",
        "colab_type": "text"
      },
      "source": [
        "##Algoritmo Fast Block LMS"
      ]
    },
    {
      "cell_type": "code",
      "metadata": {
        "id": "DcSofBHojOhD",
        "colab_type": "code",
        "colab": {}
      },
      "source": [
        "\n",
        "def getBlock(M,u):\n",
        "    block = np.zeros((M,M))\n",
        "    for i in range(0,M):\n",
        "        block[:,i] = np.flip(u[i:i+M])\n",
        "    return block\n",
        "\n",
        "def getSubArraysForBlock(u,M):\n",
        "    u = np.concatenate((np.zeros(M-1),u), axis= None)\n",
        "#    number_of_blocks = len(u)//(M)\n",
        "    number_of_blocks = len(u)//(2*M-1)\n",
        "   # u = u[:(M)*number_of_blocks] # me quedo con el arreglo que se puede dividir en numero entero de bloques\n",
        "    u = u[:(2*M-1)*number_of_blocks] # me quedo con el arreglo que se puede dividir en numero entero de bloques\n",
        "   \n",
        "    subArray = np.split(u,number_of_blocks) # divido a u en k intervalos\n",
        "    return number_of_blocks,subArray, u\n",
        "\n",
        "def FastBlockLMS(M, u, d, mu):\n",
        "    N = 2*M\n",
        "    w = np.zeros(N)\n",
        "    w = w.astype(complex)\n",
        "    \n",
        "    number_of_blocks, samples_u, new_u = getSubArraysForBlock(u,M)\n",
        "    number_of_blocks, samples_d, new_d = getSubArraysForBlock(d,M)\n",
        "\n",
        "    blocks_u = []\n",
        "    blocks_d = []\n",
        "\n",
        "    for i in range(number_of_blocks):\n",
        "        blocks_u.append(getBlock(M,samples_u[i])) \n",
        "        blocks_d.append(getBlock(M,samples_d[i]))\n",
        "\n",
        "    blocks_u = np.array(blocks_u)\n",
        "    blocks_d = np.array(blocks_d)\n",
        "\n",
        "    # el algoritmo empieza aca\n",
        "    for i in range(1):\n",
        "    #for i in range(number_of_blocks-1):\n",
        "        # concateno dos bloques\n",
        "        u_concat = np.concatenate((blocks_u[i],blocks_u[i+1]),axis=1)\n",
        "        u_concat = np.concatenate((u_concat,np.zeros((M,N))), axis = 0) # overlap and save (creo que es asi)\n",
        "        u_concat = u_concat.astype(complex)\n",
        "        #print(u_concat)\n",
        "        for i in range(N):\n",
        "            u_concat[:,i] = np.fft.fft(u_concat[:,i]) # esto hace la fft en columnas\n",
        "            # tengo dudas de si deberia ser en columnas \n",
        "        \n",
        "        U = u_concat.diagonal() # esta U es de longitud N = 2M\n",
        "        y = np.fft.ifft(U*w).real\n",
        "        \n",
        "        y = y[len(y)-M:] # no se si va con flip\n",
        "        d = samples_d[i] # no se si va con flip\n",
        "        \n",
        "        d = d[len(d)-M:].astype(complex) # uso los ultimos 3 como deseada???\n",
        "        e = d-y\n",
        "        E = np.concatenate((np.zeros(M),e),axis = None)\n",
        "        phi = np.fft.ifft((U.conj().T)*E).real[:M]\n",
        "        w += mu*np.fft.fft(np.concatenate((phi,np.zeros(M)),axis=None))\n",
        "\n",
        "    # con L = M , necesito 2M+1 muestras por cada bloque\n",
        "\n",
        "u = 1+np.arange(30) # [u(0), u(1), ... ]\n",
        "d = 1+np.arange(30) \n",
        "FastBlockLMS(3,u,d,0.01)"
      ],
      "execution_count": 0,
      "outputs": []
    },
    {
      "cell_type": "code",
      "metadata": {
        "id": "Nvt5-TkhwyTi",
        "colab_type": "code",
        "colab": {
          "base_uri": "https://localhost:8080/",
          "height": 282
        },
        "outputId": "125caf00-66ee-41a7-c839-ae994dc833bb"
      },
      "source": [
        "def getBlock(M,subArray,k):\n",
        "    block = np.zeros((M,M))\n",
        "    for i in range(M):\n",
        "        block[:,i] = np.flip(subArray[(k*M +i): (k*M +i+M)])\n",
        "    return block\n",
        "\n",
        "def FastBlockLMS(M, u, d, mu):\n",
        "    N = 2*M\n",
        "    u_list = np.zeros(0)\n",
        "    d_list = np.zeros(0)\n",
        "    y_list = np.zeros(0)\n",
        "    W_list = []\n",
        "\n",
        "    W = np.zeros(N)\n",
        "    W = W.astype(complex)\n",
        "    original_len = len(u)\n",
        "    \n",
        "    new_u = np.concatenate((np.zeros(M-1),u), axis= None)\n",
        "    new_d = np.concatenate((np.zeros(M-1),u), axis= None)\n",
        "\n",
        "    number_of_blocks = original_len//M\n",
        "    blocks_u = []\n",
        "    blocks_d = []\n",
        "\n",
        "\n",
        "    for i in range(number_of_blocks):\n",
        "        blocks_u.append(getBlock(M,new_u,i)) \n",
        "        blocks_d.append(getBlock(M,new_d,i))\n",
        "\n",
        "    blocks_u = np.array(blocks_u)\n",
        "    blocks_d = np.array(blocks_d)\n",
        "    #print(blocks_u)\n",
        "    # el algoritmo empieza aca\n",
        "    \n",
        "    for i in range(number_of_blocks-1):\n",
        "        W_list.append(W)\n",
        "        u_list = np.concatenate((u_list,blocks_u[i][0,:]), axis=None)\n",
        "\n",
        "        # concateno dos bloques\n",
        "        u_concat = np.concatenate((blocks_u[i],blocks_u[i+1]),axis=1)\n",
        "        u_concat = np.concatenate((u_concat,np.zeros((M,N))), axis = 0) # overlap and save (creo que es asi)\n",
        "        u_concat = u_concat.astype(complex)\n",
        "        #print(u_concat)\n",
        "        for i in range(N):\n",
        "            u_concat[:,i] = np.fft.fft(u_concat[:,i]) # esto hace la fft en columnas\n",
        "            # tengo dudas de si deberia ser en columnas \n",
        "        \n",
        "        U = u_concat.diagonal() # esta U es de longitud N = 2M\n",
        "        y = np.fft.ifft(U*W).real\n",
        "        \n",
        "        y = y[len(y)-M:] # no se si va con flip\n",
        "        y_list = np.concatenate((y_list,y), axis=None)\n",
        "\n",
        "        d = blocks_d[i][0,:]# no se si va con flip        \n",
        "        d_list = np.concatenate((d_list,d), axis=None)\n",
        "\n",
        "        e = d-y\n",
        "        E = np.concatenate((np.zeros(M),e),axis = None)\n",
        "        phi = np.fft.ifft((U.conj().T)*E).real[:M]\n",
        "        W += mu*np.fft.fft(np.concatenate((phi,np.zeros(M)),axis=None))\n",
        "        W_list.append(W)\n",
        "        \n",
        "        # con L = M , necesito 2M+1 muestras por cada bloque\n",
        "        return u_list,y_list, d_list, W_list\n",
        "\n",
        "u = 1+np.arange(30) # [u(0), u(1), ... ]\n",
        "d = 1+np.arange(30) \n",
        "u_list, y_list, d_list, W_list =FastBlockLMS(3,u,d,0.01)\n",
        "\n",
        "\n",
        "plt.plot(y_list)\n",
        "plt.plot(d_list)\n"
      ],
      "execution_count": 84,
      "outputs": [
        {
          "output_type": "execute_result",
          "data": {
            "text/plain": [
              "[<matplotlib.lines.Line2D at 0x7f61cf644f60>]"
            ]
          },
          "metadata": {
            "tags": []
          },
          "execution_count": 84
        },
        {
          "output_type": "display_data",
          "data": {
            "image/png": "[encoded data removed]",
            "text/plain": [
              "<Figure size 432x288 with 1 Axes>"
            ]
          },
          "metadata": {
            "tags": []
          }
        }
      ]
    }
  ]
}