{
  "nbformat": 4,
  "nbformat_minor": 0,
  "metadata": {
    "colab": {
      "name": "Untitled1.ipynb",
      "provenance": [],
      "collapsed_sections": [],
      "machine_shape": "hm",
      "include_colab_link": true
    },
    "kernelspec": {
      "name": "python3",
      "display_name": "Python 3"
    },
    "accelerator": "GPU"
  },
  "cells": [
    {
      "cell_type": "markdown",
      "metadata": {
        "id": "view-in-github",
        "colab_type": "text"
      },
      "source": [
        "<a href=\"https://colab.research.google.com/github/jmestanza/PASA_TP1_Echo_cancellation/blob/master/Untitled1.ipynb\" target=\"_parent\"><img src=\"https://colab.research.google.com/assets/colab-badge.svg\" alt=\"Open In Colab\"/></a>"
      ]
    },
    {
      "cell_type": "code",
      "metadata": {
        "id": "6-nOPCFyoc5u",
        "colab_type": "code",
        "outputId": "b7735aa7-1b05-4a84-a9dc-56cfa887efef",
        "colab": {
          "base_uri": "https://localhost:8080/",
          "height": 213
        }
      },
      "source": [
        "#!/usr/bin/env python3\n",
        "# -*- coding: utf-8 -*-\n",
        "\"\"\" Example for computing the RIR between several sources and receivers in GPU.\n",
        "\"\"\"\n",
        "!pip install https://github.com/DavidDiazGuerra/gpuRIR/zipball/master\n",
        "import numpy as np\n",
        "import numpy.matlib\n",
        "import matplotlib.pyplot as plt\n",
        "from math import ceil\n",
        "\n",
        "import gpuRIR"
      ],
      "execution_count": 0,
      "outputs": [
        {
          "output_type": "stream",
          "text": [
            "Collecting https://github.com/DavidDiazGuerra/gpuRIR/zipball/master\n",
            "\u001b[?25l  Downloading https://github.com/DavidDiazGuerra/gpuRIR/zipball/master\n",
            "\u001b[K     - 3.5MB 1.5MB/s\n",
            "\u001b[?25hBuilding wheels for collected packages: gpuRIR\n",
            "  Building wheel for gpuRIR (setup.py) ... \u001b[?25l\u001b[?25hdone\n",
            "  Created wheel for gpuRIR: filename=gpuRIR-1.2.0-cp36-cp36m-linux_x86_64.whl size=907220 sha256=998869f7d01a0b9f2be33f643f3922eb4657a98ee5369d938309742fca5e8009\n",
            "  Stored in directory: /tmp/pip-ephem-wheel-cache-7uehyace/wheels/d6/80/3f/6af7d0e500b38d174f793d6b8ff6a0984b1eab8b2c8f6665ae\n",
            "Successfully built gpuRIR\n",
            "Installing collected packages: gpuRIR\n",
            "Successfully installed gpuRIR-1.2.0\n"
          ],
          "name": "stdout"
        }
      ]
    },
    {
      "cell_type": "code",
      "metadata": {
        "id": "aBYwi993nr04",
        "colab_type": "code",
        "outputId": "0d17cde5-d090-466b-809d-df5ec6e41e2f",
        "colab": {
          "base_uri": "https://localhost:8080/",
          "height": 454
        }
      },
      "source": [
        "\n",
        "gpuRIR.activateMixedPrecision(False)\n",
        "\n",
        "room_sz = [3,3,2.5]  # Size of the room [m]\n",
        "nb_src = 2  # Number of sources\n",
        "pos_src = np.array([[1,2.9,0.5],[1,2,0.5]]) # Positions of the sources ([m]\n",
        "nb_rcv = 3 # Number of receivers\n",
        "pos_rcv = np.array([[0.5,1,0.5],[1,1,0.5],[1.5,1,0.5]])\t # Position of the receivers [m]\n",
        "orV_rcv = np.matlib.repmat(np.array([0,1,0]), nb_rcv, 1) # Vectors pointing in the same direction than the receivers\n",
        "mic_pattern = \"card\" # Receiver polar pattern\n",
        "abs_weights = [0.9]*5+[0.5] # Absortion coefficient ratios of the walls\n",
        "T60 = 1.0\t # Time for the RIR to reach 60dB of attenuation [s]\n",
        "att_diff = 15.0\t# Attenuation when start using the diffuse reverberation model [dB]\n",
        "att_max = 60.0 # Attenuation at the end of the simulation [dB]\n",
        "fs=16000.0 # Sampling frequency [Hz]\n",
        "\n",
        "beta = gpuRIR.beta_SabineEstimation(room_sz, T60, abs_weights=abs_weights) # Reflection coefficients\n",
        "Tdiff= gpuRIR.att2t_SabineEstimator(att_diff, T60) # Time to start the diffuse reverberation model [s]\n",
        "Tmax = gpuRIR.att2t_SabineEstimator(att_max, T60)\t # Time to stop the simulation [s]\n",
        "nb_img = gpuRIR.t2n( Tdiff, room_sz )\t# Number of image sources in each dimension\n",
        "RIRs = gpuRIR.simulateRIR(room_sz, beta, pos_src, pos_rcv, nb_img, Tmax, fs, Tdiff=Tdiff, orV_rcv=orV_rcv, mic_pattern=mic_pattern)\n",
        "\n",
        "t = np.arange(int(ceil(Tmax * fs))) / fs\n",
        "plt.plot(t, RIRs.reshape(nb_src*nb_rcv, -1).transpose())\n",
        "plt.show()"
      ],
      "execution_count": 0,
      "outputs": [
        {
          "output_type": "stream",
          "text": [
            "Collecting https://github.com/DavidDiazGuerra/gpuRIR/zipball/master\n",
            "\u001b[?25l  Downloading https://github.com/DavidDiazGuerra/gpuRIR/zipball/master\n",
            "\u001b[K     \\ 2.7MB 557kB/s\n",
            "\u001b[?25hBuilding wheels for collected packages: gpuRIR\n",
            "  Building wheel for gpuRIR (setup.py) ... \u001b[?25l\u001b[?25hdone\n",
            "  Created wheel for gpuRIR: filename=gpuRIR-1.2.0-cp36-cp36m-linux_x86_64.whl size=907218 sha256=a8b5b09bd78ca79a9a57683026f719fdfd6830696fe0eff223da3f4c71741aba\n",
            "  Stored in directory: /tmp/pip-ephem-wheel-cache-z168b8f7/wheels/d6/80/3f/6af7d0e500b38d174f793d6b8ff6a0984b1eab8b2c8f6665ae\n",
            "Successfully built gpuRIR\n",
            "Installing collected packages: gpuRIR\n",
            "Successfully installed gpuRIR-1.2.0\n"
          ],
          "name": "stdout"
        },
        {
          "output_type": "display_data",
          "data": {
            "image/png": "[encoded data removed]",
            "text/plain": [
              "<Figure size 432x288 with 1 Axes>"
            ]
          },
          "metadata": {
            "tags": []
          }
        }
      ]
    },
    {
      "cell_type": "code",
      "metadata": {
        "id": "f8lUqmZM6kON",
        "colab_type": "code",
        "colab": {
          "base_uri": "https://localhost:8080/",
          "height": 105
        },
        "outputId": "adb87f3a-b60f-4f9b-eb75-d7d167e227b7"
      },
      "source": [
        "M = 5\n",
        "data = np.array([1,2,3,4,5])\n",
        "_u = 1\n",
        "delta = 0.1\n",
        "u = data.copy()\n",
        "desired = data.copy()\n",
        "its = 5\n",
        "\n",
        "w = NLMS(M, _u,delta, u, desired, its);\n",
        "print(w)"
      ],
      "execution_count": 110,
      "outputs": [
        {
          "output_type": "stream",
          "text": [
            "[[ 0.          0.01814882 -0.03781279 -0.0939089  -0.15000525]\n",
            " [ 0.          0.07259528 -0.00303029 -0.07892487 -0.15481994]\n",
            " [ 0.          0.16333938  0.10434748  0.04495208 -0.01444406]\n",
            " [ 0.          0.29038113  0.28432054  0.27772195  0.27112238]\n",
            " [ 0.          0.45372051  0.53688888  0.61938474  0.70187938]]\n"
          ],
          "name": "stdout"
        }
      ]
    },
    {
      "cell_type": "code",
      "metadata": {
        "id": "e_8YTdmwD4oO",
        "colab_type": "code",
        "colab": {}
      },
      "source": [
        "from IPython.display import clear_output\n",
        "!wget \"https://raw.githubusercontent.com/jmestanza/Guia_2_PASA/master/data/originales/sweep_rapido.wav\"\n",
        "!wget \"https://raw.githubusercontent.com/jmestanza/Guia_2_PASA/master/data/originales/sweep_lento.wav\"\n",
        "!wget \"https://raw.githubusercontent.com/jmestanza/Guia_2_PASA/master/data/originales/cuadrada.wav\"\n",
        "!wget \"https://raw.githubusercontent.com/jmestanza/Guia_2_PASA/master/data/originales/music_original.wav\"\n",
        "!wget \"https://raw.githubusercontent.com/jmestanza/Guia_2_PASA/master/data/originales/ruido_blanco_c.wav\"\n",
        "!wget \"https://raw.githubusercontent.com/jmestanza/Guia_2_PASA/master/data/originales/voice_48k.wav\"\n",
        "\n",
        "!wget \"https://raw.githubusercontent.com/jmestanza/Guia_2_PASA/master/data/grabados/grab_sweep_rapido.wav\"\n",
        "!wget \"https://raw.githubusercontent.com/jmestanza/Guia_2_PASA/master/data/grabados/grab_sweep_lento.wav\"\n",
        "!wget \"https://raw.githubusercontent.com/jmestanza/Guia_2_PASA/master/data/grabados/grab_cuadrada.wav\"\n",
        "!wget \"https://raw.githubusercontent.com/jmestanza/Guia_2_PASA/master/data/grabados/grab_cassiopeia.wav\"\n",
        "!wget \"https://raw.githubusercontent.com/jmestanza/Guia_2_PASA/master/data/grabados/grab_ruido_blanco.wav\"\n",
        "!wget \"https://raw.githubusercontent.com/jmestanza/Guia_2_PASA/master/data/grabados/grab_voice.wav\"\n",
        "\n",
        "!wget \"https://raw.githubusercontent.com/jmestanza/Guia_2_PASA/master/data/originales/music_signal.wav\"\n",
        "!pip install -U pip setuptools\n",
        "!ls\n",
        "clear_output()\n",
        "\n",
        "import warnings\n",
        "warnings.filterwarnings(\"ignore\")\n",
        "from scipy.io.wavfile import read\n",
        "import numpy as np\n",
        "import IPython.display as ipd\n",
        "import matplotlib.pyplot as plt\n",
        "import wave, struct, math, random\n",
        "from IPython.display import Audio\n",
        "from scipy import signal as sgn\n",
        "from scipy.linalg import toeplitz\n",
        "from scipy import linalg\n",
        "from scipy import signal\n",
        "from scipy.io.wavfile import write"
      ],
      "execution_count": 0,
      "outputs": []
    },
    {
      "cell_type": "code",
      "metadata": {
        "id": "UBMGUa1lD_0r",
        "colab_type": "code",
        "colab": {
          "base_uri": "https://localhost:8080/",
          "height": 52
        },
        "outputId": "52c498fd-9d2b-40c5-cfca-dd69e164f2e7"
      },
      "source": [
        "def sync_signals(u,d,init_delay,evLen,fs):\n",
        "    u = u[int(0):int((evLen)*fs)]\n",
        "    d = d[int((init_delay)*fs):int((init_delay+evLen)*fs)]\n",
        "    return u, d\n",
        "\n",
        "def adjustSignals(fs,u,d):\n",
        "    ##Agrego ceros si alguna señal tiene diferente tamaño\n",
        "    diff = len(u) - len(d)\n",
        "    if(diff > 0):\n",
        "        d = np.concatenate((d,[0 for _ in range(diff)]))\n",
        "    elif(diff < 0):\n",
        "        u = np.concatenate((u,[0 for _ in range(-diff)]))\n",
        "\n",
        "    ##Agrego un segundo de ceros al principio y al final\n",
        "    uZ = np.array([0 for i in range(0,1*fs)])\n",
        "    uZ = np.concatenate((uZ,u))\n",
        "    uZ = np.concatenate((uZ,[0 for i in range(0,1*fs)]))\n",
        "\n",
        "    dZ = np.array([0 for i in range(0,1*fs)])\n",
        "    dZ = np.concatenate((dZ,d))\n",
        "    dZ = np.concatenate((dZ,[0 for i in range(0,1*fs)]))\n",
        "    return uZ,dZ\n",
        "\n",
        "def get_mono_array(stereo_file_name):\n",
        "    file = read(stereo_file_name)\n",
        "    fs = file[0]\n",
        "    datos = np.array(file[1],dtype=float) \n",
        "    if len(np.shape(datos))>1: #si tiene dos canales\n",
        "        ch0 = datos[:, 0]\n",
        "        ch1 = datos[:, 1]\n",
        "        datos = (ch0 + ch1)/2  # o lo hacemos mono\n",
        "    return fs, datos\n",
        "\n",
        "def get_estimations(u,d):\n",
        "    u_f = np.fft.fft(u)\n",
        "    d_f = np.fft.fft(d)\n",
        "    \n",
        "    ##Estimo rx\n",
        "    r = np.fft.ifft(u_f * u_f.conj()).real\n",
        "    r = r[:len(u)//2]/len(u)\n",
        "    ##Estimo p\n",
        "    p = np.fft.ifft(u_f * d_f.conj()).real\n",
        "    p = p[len(u)//2:]/len(u)\n",
        "    p = np.flip(p)\n",
        "\n",
        "    ##Estimo la energia de d\n",
        "    s2d = np.var(d)\n",
        "    return r,p,s2d\n",
        "\n",
        "def get_filter(rx,p,M,sigma2d):\n",
        "    rx1=rx[0:M]\n",
        "    p1=p[0:M]\n",
        "    R = toeplitz(rx1)\n",
        "# se obtienen los coeficientes wo\n",
        "    wo = np.dot(linalg.inv(R), p1)\n",
        "    Jmin = sigma2d - p1.dot(wo)\n",
        "    return rx1,R,p1,wo,Jmin\n",
        "\n",
        "def read_wavs(audio_file,grab_file):\n",
        "    file_name = grab_file\n",
        "    fs, grab_audio = get_mono_array(file_name)\n",
        "    grab_audio /= np.max(np.abs(grab_audio),axis=0)\n",
        "    grab_audio /= np.max(np.abs(grab_audio),axis=0)\n",
        "    grab_audio = grab_audio - np.mean(grab_audio)\n",
        "    print(\"fs de la grabacion \",fs, \"nombre\", file_name)\n",
        "\n",
        "    file_name = audio_file\n",
        "    fs, audio = get_mono_array(file_name)\n",
        "\n",
        "    audio /= np.max(np.abs(audio),axis=0)\n",
        "    audio = audio-np.mean(audio)\n",
        "    print(\"fs del audio \",fs, \"nombre\", file_name)\n",
        "    return audio,grab_audio,fs\n",
        "\n",
        "signals = {'lin':['/content/sweep_rapido.wav','/content/grab_sweep_rapido.wav',0.336,7.977],\n",
        "          'log':['/content/sweep_lento.wav','/content/grab_sweep_lento.wav',0.648,10.936],\n",
        "          'square':['/content/cuadrada.wav','/content/grab_cuadrada.wav',0.341,7.345],\n",
        "          'noise':['/content/ruido_blanco_c.wav','/content/grab_ruido_blanco.wav',0.665, 8.339],\n",
        "          'voice':['/content/voice_48k.wav','/content/grab_voice.wav',0.636,5.070],\n",
        "          'music':['/content/music_original.wav','/content/grab_cassiopeia.wav',0.364,7.971]}\n",
        "\n",
        "sound=\"log\"\n",
        "audio,grab_audio,fs=read_wavs(signals[sound][0],signals[sound][1])\n",
        "\n",
        "u, d= sync_signals(audio,grab_audio,signals[sound][2],signals[sound][3],fs)\n",
        "\n",
        "uZ,dZ=adjustSignals(fs,u,d)\n",
        "r, p, sigma2d = get_estimations(uZ,dZ)\n",
        "r1,R,p1,wo,Jmin = get_filter(r,p,100,sigma2d)\n",
        "estimado = signal.filtfilt(wo,[1],u)"
      ],
      "execution_count": 3,
      "outputs": [
        {
          "output_type": "stream",
          "text": [
            "fs de la grabacion  48000 nombre /content/grab_sweep_lento.wav\n",
            "fs del audio  48000 nombre /content/sweep_lento.wav\n"
          ],
          "name": "stdout"
        }
      ]
    },
    {
      "cell_type": "code",
      "metadata": {
        "id": "0cb3zTfqFKiH",
        "colab_type": "code",
        "colab": {
          "base_uri": "https://localhost:8080/",
          "height": 282
        },
        "outputId": "5d1f5564-4715-460a-834a-f7926997914f"
      },
      "source": [
        "import numpy as np\n",
        "def normalize(datos):\n",
        "    return np.interp(datos, (datos.min(), datos.max()), (-1, +1)) #normalizamos\n",
        "\n",
        "def NLMS(M,_u, delta, u, d, realizaciones):\n",
        "    w = np.zeros((M,realizaciones))\n",
        "    e = np.zeros((M,realizaciones))\n",
        "    for i in range(1,realizaciones):\n",
        "        u = u.reshape((M,))\n",
        "        e[:, i] = d - np.dot(w[:,i-1].conj().transpose(),u)\n",
        "        w[:,i] = w[:,i-1] + ( _u/(np.dot(u,u) + delta) )  *  u * (e[:,i].conj())\n",
        "    return w\n",
        "\n",
        "\n",
        "_u = 1\n",
        "delta = 0.25\n",
        "its = 100\n",
        "M = len(uZ)\n",
        "\n",
        "w = NLMS(len(uZ), _u,delta, uZ, dZ, its);\n",
        "\n",
        "plt.plot(normalize(w[:,its-1])-np.mean(normalize(w[:,its-1])))\n",
        "plt.plot(normalize(dZ)-np.mean(dZ))"
      ],
      "execution_count": 18,
      "outputs": [
        {
          "output_type": "execute_result",
          "data": {
            "text/plain": [
              "[<matplotlib.lines.Line2D at 0x7f3dcd4bdba8>]"
            ]
          },
          "metadata": {
            "tags": []
          },
          "execution_count": 18
        },
        {
          "output_type": "display_data",
          "data": {
            "image/png": "[encoded data removed]",
            "text/plain": [
              "<Figure size 432x288 with 1 Axes>"
            ]
          },
          "metadata": {
            "tags": []
          }
        }
      ]
    }
  ]
}