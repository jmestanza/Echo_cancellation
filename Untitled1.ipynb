{
  "nbformat": 4,
  "nbformat_minor": 0,
  "metadata": {
    "colab": {
      "name": "Untitled1.ipynb",
      "provenance": [],
      "collapsed_sections": [],
      "include_colab_link": true
    },
    "kernelspec": {
      "name": "python3",
      "display_name": "Python 3"
    },
    "accelerator": "GPU"
  },
  "cells": [
    {
      "cell_type": "markdown",
      "metadata": {
        "id": "view-in-github",
        "colab_type": "text"
      },
      "source": [
        "<a href=\"https://colab.research.google.com/github/jmestanza/PASA_TP1_Echo_cancellation/blob/master/Untitled1.ipynb\" target=\"_parent\"><img src=\"https://colab.research.google.com/assets/colab-badge.svg\" alt=\"Open In Colab\"/></a>"
      ]
    },
    {
      "cell_type": "code",
      "metadata": {
        "id": "6-nOPCFyoc5u",
        "colab_type": "code",
        "outputId": "b7735aa7-1b05-4a84-a9dc-56cfa887efef",
        "colab": {
          "base_uri": "https://localhost:8080/",
          "height": 213
        }
      },
      "source": [
        "#!/usr/bin/env python3\n",
        "# -*- coding: utf-8 -*-\n",
        "\"\"\" Example for computing the RIR between several sources and receivers in GPU.\n",
        "\"\"\"\n",
        "!pip install https://github.com/DavidDiazGuerra/gpuRIR/zipball/master\n",
        "import numpy as np\n",
        "import numpy.matlib\n",
        "import matplotlib.pyplot as plt\n",
        "from math import ceil\n",
        "\n",
        "import gpuRIR"
      ],
      "execution_count": 0,
      "outputs": [
        {
          "output_type": "stream",
          "text": [
            "Collecting https://github.com/DavidDiazGuerra/gpuRIR/zipball/master\n",
            "\u001b[?25l  Downloading https://github.com/DavidDiazGuerra/gpuRIR/zipball/master\n",
            "\u001b[K     - 3.5MB 1.5MB/s\n",
            "\u001b[?25hBuilding wheels for collected packages: gpuRIR\n",
            "  Building wheel for gpuRIR (setup.py) ... \u001b[?25l\u001b[?25hdone\n",
            "  Created wheel for gpuRIR: filename=gpuRIR-1.2.0-cp36-cp36m-linux_x86_64.whl size=907220 sha256=998869f7d01a0b9f2be33f643f3922eb4657a98ee5369d938309742fca5e8009\n",
            "  Stored in directory: /tmp/pip-ephem-wheel-cache-7uehyace/wheels/d6/80/3f/6af7d0e500b38d174f793d6b8ff6a0984b1eab8b2c8f6665ae\n",
            "Successfully built gpuRIR\n",
            "Installing collected packages: gpuRIR\n",
            "Successfully installed gpuRIR-1.2.0\n"
          ],
          "name": "stdout"
        }
      ]
    },
    {
      "cell_type": "code",
      "metadata": {
        "id": "aBYwi993nr04",
        "colab_type": "code",
        "outputId": "0d17cde5-d090-466b-809d-df5ec6e41e2f",
        "colab": {
          "base_uri": "https://localhost:8080/",
          "height": 454
        }
      },
      "source": [
        "\n",
        "gpuRIR.activateMixedPrecision(False)\n",
        "\n",
        "room_sz = [3,3,2.5]  # Size of the room [m]\n",
        "nb_src = 2  # Number of sources\n",
        "pos_src = np.array([[1,2.9,0.5],[1,2,0.5]]) # Positions of the sources ([m]\n",
        "nb_rcv = 3 # Number of receivers\n",
        "pos_rcv = np.array([[0.5,1,0.5],[1,1,0.5],[1.5,1,0.5]])\t # Position of the receivers [m]\n",
        "orV_rcv = np.matlib.repmat(np.array([0,1,0]), nb_rcv, 1) # Vectors pointing in the same direction than the receivers\n",
        "mic_pattern = \"card\" # Receiver polar pattern\n",
        "abs_weights = [0.9]*5+[0.5] # Absortion coefficient ratios of the walls\n",
        "T60 = 1.0\t # Time for the RIR to reach 60dB of attenuation [s]\n",
        "att_diff = 15.0\t# Attenuation when start using the diffuse reverberation model [dB]\n",
        "att_max = 60.0 # Attenuation at the end of the simulation [dB]\n",
        "fs=16000.0 # Sampling frequency [Hz]\n",
        "\n",
        "beta = gpuRIR.beta_SabineEstimation(room_sz, T60, abs_weights=abs_weights) # Reflection coefficients\n",
        "Tdiff= gpuRIR.att2t_SabineEstimator(att_diff, T60) # Time to start the diffuse reverberation model [s]\n",
        "Tmax = gpuRIR.att2t_SabineEstimator(att_max, T60)\t # Time to stop the simulation [s]\n",
        "nb_img = gpuRIR.t2n( Tdiff, room_sz )\t# Number of image sources in each dimension\n",
        "RIRs = gpuRIR.simulateRIR(room_sz, beta, pos_src, pos_rcv, nb_img, Tmax, fs, Tdiff=Tdiff, orV_rcv=orV_rcv, mic_pattern=mic_pattern)\n",
        "\n",
        "t = np.arange(int(ceil(Tmax * fs))) / fs\n",
        "plt.plot(t, RIRs.reshape(nb_src*nb_rcv, -1).transpose())\n",
        "plt.show()"
      ],
      "execution_count": 0,
      "outputs": [
        {
          "output_type": "stream",
          "text": [
            "Collecting https://github.com/DavidDiazGuerra/gpuRIR/zipball/master\n",
            "\u001b[?25l  Downloading https://github.com/DavidDiazGuerra/gpuRIR/zipball/master\n",
            "\u001b[K     \\ 2.7MB 557kB/s\n",
            "\u001b[?25hBuilding wheels for collected packages: gpuRIR\n",
            "  Building wheel for gpuRIR (setup.py) ... \u001b[?25l\u001b[?25hdone\n",
            "  Created wheel for gpuRIR: filename=gpuRIR-1.2.0-cp36-cp36m-linux_x86_64.whl size=907218 sha256=a8b5b09bd78ca79a9a57683026f719fdfd6830696fe0eff223da3f4c71741aba\n",
            "  Stored in directory: /tmp/pip-ephem-wheel-cache-z168b8f7/wheels/d6/80/3f/6af7d0e500b38d174f793d6b8ff6a0984b1eab8b2c8f6665ae\n",
            "Successfully built gpuRIR\n",
            "Installing collected packages: gpuRIR\n",
            "Successfully installed gpuRIR-1.2.0\n"
          ],
          "name": "stdout"
        },
        {
          "output_type": "display_data",
          "data": {
            "image/png": "[encoded data removed]",
            "text/plain": [
              "<Figure size 432x288 with 1 Axes>"
            ]
          },
          "metadata": {
            "tags": []
          }
        }
      ]
    },
    {
      "cell_type": "code",
      "metadata": {
        "id": "OHISw8KU3l2b",
        "colab_type": "code",
        "colab": {}
      },
      "source": [
        "import numpy as np\n",
        "def NLMS(M,_u, delta, u, d):\n",
        "    w = np.zeros((M,M))\n",
        "    e = np.zeros((M,M))\n",
        "    for i in range(1,M):\n",
        "        u = u.reshape((M,))\n",
        "        e[:, i] = d - np.dot(w[:,i-1].conj().transpose(),u)\n",
        "        w[:,i] = w[:,i-1] + ( _u/(np.dot(u,u) + delta) )  *  u * (e[:,i].conj())\n",
        "    print(w)"
      ],
      "execution_count": 0,
      "outputs": []
    },
    {
      "cell_type": "code",
      "metadata": {
        "id": "f8lUqmZM6kON",
        "colab_type": "code",
        "colab": {
          "base_uri": "https://localhost:8080/",
          "height": 105
        },
        "outputId": "b5fe7472-f6cb-453f-cd27-b170da17a04c"
      },
      "source": [
        "M = 5\n",
        "data = np.ones((1,M))\n",
        "_u = 1\n",
        "delta = 0.1\n",
        "u = data.copy()\n",
        "desired = data.copy()\n",
        "NLMS(M, _u,delta, u, desired);"
      ],
      "execution_count": 78,
      "outputs": [
        {
          "output_type": "stream",
          "text": [
            "[[0.         0.19607843 0.19992311 0.19999849 0.19999997]\n",
            " [0.         0.19607843 0.19992311 0.19999849 0.19999997]\n",
            " [0.         0.19607843 0.19992311 0.19999849 0.19999997]\n",
            " [0.         0.19607843 0.19992311 0.19999849 0.19999997]\n",
            " [0.         0.19607843 0.19992311 0.19999849 0.19999997]]\n"
          ],
          "name": "stdout"
        }
      ]
    }
  ]
}