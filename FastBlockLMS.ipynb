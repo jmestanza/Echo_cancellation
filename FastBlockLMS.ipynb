{
  "nbformat": 4,
  "nbformat_minor": 0,
  "metadata": {
    "colab": {
      "name": "NLMS.ipynb",
      "provenance": [],
      "collapsed_sections": [],
      "machine_shape": "hm",
      "include_colab_link": true
    },
    "kernelspec": {
      "name": "python3",
      "display_name": "Python 3"
    },
    "accelerator": "GPU"
  },
  "cells": [
    {
      "cell_type": "markdown",
      "metadata": {
        "id": "view-in-github",
        "colab_type": "text"
      },
      "source": [
        "<a href=\"https://colab.research.google.com/github/jmestanza/PASA_TP1_Echo_cancellation/blob/master/FastBlockLMS.ipynb\" target=\"_parent\"><img src=\"https://colab.research.google.com/assets/colab-badge.svg\" alt=\"Open In Colab\"/></a>"
      ]
    },
    {
      "cell_type": "code",
      "metadata": {
        "id": "6-nOPCFyoc5u",
        "colab_type": "code",
        "outputId": "5afc9e27-6f83-4839-d138-1f58a3532f3f",
        "colab": {
          "base_uri": "https://localhost:8080/",
          "height": 211
        }
      },
      "source": [
        "#!/usr/bin/env python3\n",
        "# -*- coding: utf-8 -*-\n",
        "\"\"\" Example for computing the RIR between several sources and receivers in GPU.\n",
        "\"\"\"\n",
        "!pip install https://github.com/DavidDiazGuerra/gpuRIR/zipball/master\n",
        "import numpy as np\n",
        "import numpy.matlib\n",
        "import matplotlib.pyplot as plt\n",
        "from math import ceil\n",
        "\n",
        "import gpuRIR"
      ],
      "execution_count": 0,
      "outputs": [
        {
          "output_type": "stream",
          "text": [
            "Collecting https://github.com/DavidDiazGuerra/gpuRIR/zipball/master\n",
            "\u001b[?25l  Downloading https://github.com/DavidDiazGuerra/gpuRIR/zipball/master\n",
            "\u001b[K     | 2.7MB 1.1MB/s\n",
            "\u001b[?25hBuilding wheels for collected packages: gpuRIR\n",
            "  Building wheel for gpuRIR (setup.py) ... \u001b[?25l\u001b[?25hdone\n",
            "  Created wheel for gpuRIR: filename=gpuRIR-1.2.0-cp36-cp36m-linux_x86_64.whl size=907218 sha256=aaa3fa82b18e7bb39f390a341bd49798caead12b7268e65189aa2b2b1f2d2910\n",
            "  Stored in directory: /tmp/pip-ephem-wheel-cache-s60sz8eu/wheels/d6/80/3f/6af7d0e500b38d174f793d6b8ff6a0984b1eab8b2c8f6665ae\n",
            "Successfully built gpuRIR\n",
            "Installing collected packages: gpuRIR\n",
            "Successfully installed gpuRIR-1.2.0\n"
          ],
          "name": "stdout"
        }
      ]
    },
    {
      "cell_type": "code",
      "metadata": {
        "id": "aBYwi993nr04",
        "colab_type": "code",
        "outputId": "0d17cde5-d090-466b-809d-df5ec6e41e2f",
        "colab": {
          "base_uri": "https://localhost:8080/",
          "height": 454
        }
      },
      "source": [
        "\n",
        "gpuRIR.activateMixedPrecision(False)\n",
        "\n",
        "room_sz = [3,3,2.5]  # Size of the room [m]\n",
        "nb_src = 2  # Number of sources\n",
        "pos_src = np.array([[1,2.9,0.5],[1,2,0.5]]) # Positions of the sources ([m]\n",
        "nb_rcv = 3 # Number of receivers\n",
        "pos_rcv = np.array([[0.5,1,0.5],[1,1,0.5],[1.5,1,0.5]])\t # Position of the receivers [m]\n",
        "orV_rcv = np.matlib.repmat(np.array([0,1,0]), nb_rcv, 1) # Vectors pointing in the same direction than the receivers\n",
        "mic_pattern = \"card\" # Receiver polar pattern\n",
        "abs_weights = [0.9]*5+[0.5] # Absortion coefficient ratios of the walls\n",
        "T60 = 1.0\t # Time for the RIR to reach 60dB of attenuation [s]\n",
        "att_diff = 15.0\t# Attenuation when start using the diffuse reverberation model [dB]\n",
        "att_max = 60.0 # Attenuation at the end of the simulation [dB]\n",
        "fs=16000.0 # Sampling frequency [Hz]\n",
        "\n",
        "beta = gpuRIR.beta_SabineEstimation(room_sz, T60, abs_weights=abs_weights) # Reflection coefficients\n",
        "Tdiff= gpuRIR.att2t_SabineEstimator(att_diff, T60) # Time to start the diffuse reverberation model [s]\n",
        "Tmax = gpuRIR.att2t_SabineEstimator(att_max, T60)\t # Time to stop the simulation [s]\n",
        "nb_img = gpuRIR.t2n( Tdiff, room_sz )\t# Number of image sources in each dimension\n",
        "RIRs = gpuRIR.simulateRIR(room_sz, beta, pos_src, pos_rcv, nb_img, Tmax, fs, Tdiff=Tdiff, orV_rcv=orV_rcv, mic_pattern=mic_pattern)\n",
        "\n",
        "t = np.arange(int(ceil(Tmax * fs))) / fs\n",
        "plt.plot(t, RIRs.reshape(nb_src*nb_rcv, -1).transpose())\n",
        "plt.show()"
      ],
      "execution_count": 0,
      "outputs": [
        {
          "output_type": "stream",
          "text": [
            "Collecting https://github.com/DavidDiazGuerra/gpuRIR/zipball/master\n",
            "\u001b[?25l  Downloading https://github.com/DavidDiazGuerra/gpuRIR/zipball/master\n",
            "\u001b[K     \\ 2.7MB 557kB/s\n",
            "\u001b[?25hBuilding wheels for collected packages: gpuRIR\n",
            "  Building wheel for gpuRIR (setup.py) ... \u001b[?25l\u001b[?25hdone\n",
            "  Created wheel for gpuRIR: filename=gpuRIR-1.2.0-cp36-cp36m-linux_x86_64.whl size=907218 sha256=a8b5b09bd78ca79a9a57683026f719fdfd6830696fe0eff223da3f4c71741aba\n",
            "  Stored in directory: /tmp/pip-ephem-wheel-cache-z168b8f7/wheels/d6/80/3f/6af7d0e500b38d174f793d6b8ff6a0984b1eab8b2c8f6665ae\n",
            "Successfully built gpuRIR\n",
            "Installing collected packages: gpuRIR\n",
            "Successfully installed gpuRIR-1.2.0\n"
          ],
          "name": "stdout"
        },
        {
          "output_type": "display_data",
          "data": {
            "image/png": "[encoded data removed]",
            "text/plain": [
              "<Figure size 432x288 with 1 Axes>"
            ]
          },
          "metadata": {
            "tags": []
          }
        }
      ]
    },
    {
      "cell_type": "code",
      "metadata": {
        "id": "UBMGUa1lD_0r",
        "colab_type": "code",
        "outputId": "4c60bc1b-6d04-4d38-99ff-58ec4bd08e93",
        "colab": {
          "base_uri": "https://localhost:8080/",
          "height": 374
        }
      },
      "source": [
        "from IPython.display import clear_output\n",
        "\n",
        "!wget \"https://raw.githubusercontent.com/jmestanza/Guia_2_PASA/master/data/originales/music_original.wav\"\n",
        "\n",
        "!pip install -U pip setuptools\n",
        "!ls\n",
        "clear_output()\n",
        "\n",
        "import warnings\n",
        "warnings.filterwarnings(\"ignore\")\n",
        "from scipy.io.wavfile import read\n",
        "import numpy as np\n",
        "import IPython.display as ipd\n",
        "import matplotlib.pyplot as plt\n",
        "import wave, struct, math, random\n",
        "from IPython.display import Audio\n",
        "from scipy import signal as sgn\n",
        "from scipy.linalg import toeplitz\n",
        "from scipy import linalg\n",
        "from scipy import signal\n",
        "from scipy.io.wavfile import write\n",
        "\n",
        "def sync_signals(u,d,init_delay,evLen,fs):\n",
        "    u = u[int(0):int((evLen)*fs)]\n",
        "    d = d[int((init_delay)*fs):int((init_delay+evLen)*fs)]\n",
        "    return u, d\n",
        "\n",
        "def adjustSignals(fs,u,d):\n",
        "    ##Agrego ceros si alguna señal tiene diferente tamaño\n",
        "    diff = len(u) - len(d)\n",
        "    if(diff > 0):\n",
        "        d = np.concatenate((d,[0 for _ in range(diff)]))\n",
        "    elif(diff < 0):\n",
        "        u = np.concatenate((u,[0 for _ in range(-diff)]))\n",
        "\n",
        "    ##Agrego un segundo de ceros al principio y al final\n",
        "    uZ = np.array([0 for i in range(0,1*fs)])\n",
        "    uZ = np.concatenate((uZ,u))\n",
        "    uZ = np.concatenate((uZ,[0 for i in range(0,1*fs)]))\n",
        "\n",
        "    dZ = np.array([0 for i in range(0,1*fs)])\n",
        "    dZ = np.concatenate((dZ,d))\n",
        "    dZ = np.concatenate((dZ,[0 for i in range(0,1*fs)]))\n",
        "    return uZ,dZ\n",
        "\n",
        "def get_mono_array(stereo_file_name):\n",
        "    file = read(stereo_file_name)\n",
        "    fs = file[0]\n",
        "    datos = np.array(file[1],dtype=float) \n",
        "    if len(np.shape(datos))>1: #si tiene dos canales\n",
        "        ch0 = datos[:, 0]\n",
        "        ch1 = datos[:, 1]\n",
        "        datos = (ch0 + ch1)/2  # o lo hacemos mono\n",
        "    return fs, datos\n",
        "\n",
        "def get_estimations(u,d):\n",
        "    u_f = np.fft.fft(u)\n",
        "    d_f = np.fft.fft(d)\n",
        "    \n",
        "    ##Estimo rx\n",
        "    r = np.fft.ifft(u_f * u_f.conj()).real\n",
        "    r = r[:len(u)//2]/len(u)\n",
        "    ##Estimo p\n",
        "    p = np.fft.ifft(u_f * d_f.conj()).real\n",
        "    p = p[len(u)//2:]/len(u)\n",
        "    p = np.flip(p)\n",
        "\n",
        "    ##Estimo la energia de d\n",
        "    s2d = np.var(d)\n",
        "    return r,p,s2d\n",
        "\n",
        "def get_filter(rx,p,M,sigma2d):\n",
        "    rx1=rx[0:M]\n",
        "    p1=p[0:M]\n",
        "    R = toeplitz(rx1)\n",
        "# se obtienen los coeficientes wo\n",
        "    wo = np.dot(linalg.inv(R), p1)\n",
        "    Jmin = sigma2d - p1.dot(wo)\n",
        "    return rx1,R,p1,wo,Jmin\n",
        "\n",
        "def read_wavs(audio_file,grab_file):\n",
        "    file_name = grab_file\n",
        "    fs, grab_audio = get_mono_array(file_name)\n",
        "    grab_audio /= np.max(np.abs(grab_audio),axis=0)\n",
        "    grab_audio /= np.max(np.abs(grab_audio),axis=0)\n",
        "    grab_audio = grab_audio - np.mean(grab_audio)\n",
        "    print(\"fs de la grabacion \",fs, \"nombre\", file_name)\n",
        "\n",
        "    file_name = audio_file\n",
        "    fs, audio = get_mono_array(file_name)\n",
        "\n",
        "    audio /= np.max(np.abs(audio),axis=0)\n",
        "    audio = audio-np.mean(audio)\n",
        "    print(\"fs del audio \",fs, \"nombre\", file_name)\n",
        "    return audio,grab_audio,fs\n",
        "\n",
        "signals = {'lin':['/content/sweep_rapido.wav','/content/grab_sweep_rapido.wav',0.336,7.977],\n",
        "          'log':['/content/sweep_lento.wav','/content/grab_sweep_lento.wav',0.648,10.936],\n",
        "          'square':['/content/cuadrada.wav','/content/grab_cuadrada.wav',0.341,7.345],\n",
        "          'noise':['/content/ruido_blanco_c.wav','/content/grab_ruido_blanco.wav',0.665, 8.339],\n",
        "          'voice':['/content/voice_48k.wav','/content/grab_voice.wav',0.636,5.070],\n",
        "          'music':['/content/music_original.wav','/content/grab_cassiopeia.wav',0.364,7.971]}\n",
        "\n",
        "sound=\"log\"\n",
        "audio,grab_audio,fs=read_wavs(signals[sound][0],signals[sound][1])\n",
        "\n",
        "u, d= sync_signals(audio,grab_audio,signals[sound][2],signals[sound][3],fs)\n",
        "\n",
        "uZ,dZ=adjustSignals(fs,u,d)\n",
        "\n",
        "\n",
        "r, p, sigma2d = get_estimations(uZ,dZ)\n",
        "r1,R,p1,wo,Jmin = get_filter(r,p,100,sigma2d)\n",
        "estimado = signal.filtfilt(wo,[1],u)"
      ],
      "execution_count": 1,
      "outputs": [
        {
          "output_type": "error",
          "ename": "FileNotFoundError",
          "evalue": "ignored",
          "traceback": [
            "\u001b[0;31m---------------------------------------------------------------------------\u001b[0m",
            "\u001b[0;31mFileNotFoundError\u001b[0m                         Traceback (most recent call last)",
            "\u001b[0;32m<ipython-input-1-0164b9c28365>\u001b[0m in \u001b[0;36m<module>\u001b[0;34m()\u001b[0m\n\u001b[1;32m    103\u001b[0m \u001b[0;34m\u001b[0m\u001b[0m\n\u001b[1;32m    104\u001b[0m \u001b[0msound\u001b[0m\u001b[0;34m=\u001b[0m\u001b[0;34m\"log\"\u001b[0m\u001b[0;34m\u001b[0m\u001b[0;34m\u001b[0m\u001b[0m\n\u001b[0;32m--> 105\u001b[0;31m \u001b[0maudio\u001b[0m\u001b[0;34m,\u001b[0m\u001b[0mgrab_audio\u001b[0m\u001b[0;34m,\u001b[0m\u001b[0mfs\u001b[0m\u001b[0;34m=\u001b[0m\u001b[0mread_wavs\u001b[0m\u001b[0;34m(\u001b[0m\u001b[0msignals\u001b[0m\u001b[0;34m[\u001b[0m\u001b[0msound\u001b[0m\u001b[0;34m]\u001b[0m\u001b[0;34m[\u001b[0m\u001b[0;36m0\u001b[0m\u001b[0;34m]\u001b[0m\u001b[0;34m,\u001b[0m\u001b[0msignals\u001b[0m\u001b[0;34m[\u001b[0m\u001b[0msound\u001b[0m\u001b[0;34m]\u001b[0m\u001b[0;34m[\u001b[0m\u001b[0;36m1\u001b[0m\u001b[0;34m]\u001b[0m\u001b[0;34m)\u001b[0m\u001b[0;34m\u001b[0m\u001b[0;34m\u001b[0m\u001b[0m\n\u001b[0m\u001b[1;32m    106\u001b[0m \u001b[0;34m\u001b[0m\u001b[0m\n\u001b[1;32m    107\u001b[0m \u001b[0mu\u001b[0m\u001b[0;34m,\u001b[0m \u001b[0md\u001b[0m\u001b[0;34m=\u001b[0m \u001b[0msync_signals\u001b[0m\u001b[0;34m(\u001b[0m\u001b[0maudio\u001b[0m\u001b[0;34m,\u001b[0m\u001b[0mgrab_audio\u001b[0m\u001b[0;34m,\u001b[0m\u001b[0msignals\u001b[0m\u001b[0;34m[\u001b[0m\u001b[0msound\u001b[0m\u001b[0;34m]\u001b[0m\u001b[0;34m[\u001b[0m\u001b[0;36m2\u001b[0m\u001b[0;34m]\u001b[0m\u001b[0;34m,\u001b[0m\u001b[0msignals\u001b[0m\u001b[0;34m[\u001b[0m\u001b[0msound\u001b[0m\u001b[0;34m]\u001b[0m\u001b[0;34m[\u001b[0m\u001b[0;36m3\u001b[0m\u001b[0;34m]\u001b[0m\u001b[0;34m,\u001b[0m\u001b[0mfs\u001b[0m\u001b[0;34m)\u001b[0m\u001b[0;34m\u001b[0m\u001b[0;34m\u001b[0m\u001b[0m\n",
            "\u001b[0;32m<ipython-input-1-0164b9c28365>\u001b[0m in \u001b[0;36mread_wavs\u001b[0;34m(audio_file, grab_file)\u001b[0m\n\u001b[1;32m     81\u001b[0m \u001b[0;32mdef\u001b[0m \u001b[0mread_wavs\u001b[0m\u001b[0;34m(\u001b[0m\u001b[0maudio_file\u001b[0m\u001b[0;34m,\u001b[0m\u001b[0mgrab_file\u001b[0m\u001b[0;34m)\u001b[0m\u001b[0;34m:\u001b[0m\u001b[0;34m\u001b[0m\u001b[0;34m\u001b[0m\u001b[0m\n\u001b[1;32m     82\u001b[0m     \u001b[0mfile_name\u001b[0m \u001b[0;34m=\u001b[0m \u001b[0mgrab_file\u001b[0m\u001b[0;34m\u001b[0m\u001b[0;34m\u001b[0m\u001b[0m\n\u001b[0;32m---> 83\u001b[0;31m     \u001b[0mfs\u001b[0m\u001b[0;34m,\u001b[0m \u001b[0mgrab_audio\u001b[0m \u001b[0;34m=\u001b[0m \u001b[0mget_mono_array\u001b[0m\u001b[0;34m(\u001b[0m\u001b[0mfile_name\u001b[0m\u001b[0;34m)\u001b[0m\u001b[0;34m\u001b[0m\u001b[0;34m\u001b[0m\u001b[0m\n\u001b[0m\u001b[1;32m     84\u001b[0m     \u001b[0mgrab_audio\u001b[0m \u001b[0;34m/=\u001b[0m \u001b[0mnp\u001b[0m\u001b[0;34m.\u001b[0m\u001b[0mmax\u001b[0m\u001b[0;34m(\u001b[0m\u001b[0mnp\u001b[0m\u001b[0;34m.\u001b[0m\u001b[0mabs\u001b[0m\u001b[0;34m(\u001b[0m\u001b[0mgrab_audio\u001b[0m\u001b[0;34m)\u001b[0m\u001b[0;34m,\u001b[0m\u001b[0maxis\u001b[0m\u001b[0;34m=\u001b[0m\u001b[0;36m0\u001b[0m\u001b[0;34m)\u001b[0m\u001b[0;34m\u001b[0m\u001b[0;34m\u001b[0m\u001b[0m\n\u001b[1;32m     85\u001b[0m     \u001b[0mgrab_audio\u001b[0m \u001b[0;34m/=\u001b[0m \u001b[0mnp\u001b[0m\u001b[0;34m.\u001b[0m\u001b[0mmax\u001b[0m\u001b[0;34m(\u001b[0m\u001b[0mnp\u001b[0m\u001b[0;34m.\u001b[0m\u001b[0mabs\u001b[0m\u001b[0;34m(\u001b[0m\u001b[0mgrab_audio\u001b[0m\u001b[0;34m)\u001b[0m\u001b[0;34m,\u001b[0m\u001b[0maxis\u001b[0m\u001b[0;34m=\u001b[0m\u001b[0;36m0\u001b[0m\u001b[0;34m)\u001b[0m\u001b[0;34m\u001b[0m\u001b[0;34m\u001b[0m\u001b[0m\n",
            "\u001b[0;32m<ipython-input-1-0164b9c28365>\u001b[0m in \u001b[0;36mget_mono_array\u001b[0;34m(stereo_file_name)\u001b[0m\n\u001b[1;32m     45\u001b[0m \u001b[0;34m\u001b[0m\u001b[0m\n\u001b[1;32m     46\u001b[0m \u001b[0;32mdef\u001b[0m \u001b[0mget_mono_array\u001b[0m\u001b[0;34m(\u001b[0m\u001b[0mstereo_file_name\u001b[0m\u001b[0;34m)\u001b[0m\u001b[0;34m:\u001b[0m\u001b[0;34m\u001b[0m\u001b[0;34m\u001b[0m\u001b[0m\n\u001b[0;32m---> 47\u001b[0;31m     \u001b[0mfile\u001b[0m \u001b[0;34m=\u001b[0m \u001b[0mread\u001b[0m\u001b[0;34m(\u001b[0m\u001b[0mstereo_file_name\u001b[0m\u001b[0;34m)\u001b[0m\u001b[0;34m\u001b[0m\u001b[0;34m\u001b[0m\u001b[0m\n\u001b[0m\u001b[1;32m     48\u001b[0m     \u001b[0mfs\u001b[0m \u001b[0;34m=\u001b[0m \u001b[0mfile\u001b[0m\u001b[0;34m[\u001b[0m\u001b[0;36m0\u001b[0m\u001b[0;34m]\u001b[0m\u001b[0;34m\u001b[0m\u001b[0;34m\u001b[0m\u001b[0m\n\u001b[1;32m     49\u001b[0m     \u001b[0mdatos\u001b[0m \u001b[0;34m=\u001b[0m \u001b[0mnp\u001b[0m\u001b[0;34m.\u001b[0m\u001b[0marray\u001b[0m\u001b[0;34m(\u001b[0m\u001b[0mfile\u001b[0m\u001b[0;34m[\u001b[0m\u001b[0;36m1\u001b[0m\u001b[0;34m]\u001b[0m\u001b[0;34m,\u001b[0m\u001b[0mdtype\u001b[0m\u001b[0;34m=\u001b[0m\u001b[0mfloat\u001b[0m\u001b[0;34m)\u001b[0m\u001b[0;34m\u001b[0m\u001b[0;34m\u001b[0m\u001b[0m\n",
            "\u001b[0;32m/usr/local/lib/python3.6/dist-packages/scipy/io/wavfile.py\u001b[0m in \u001b[0;36mread\u001b[0;34m(filename, mmap)\u001b[0m\n\u001b[1;32m    231\u001b[0m         \u001b[0mmmap\u001b[0m \u001b[0;34m=\u001b[0m \u001b[0;32mFalse\u001b[0m\u001b[0;34m\u001b[0m\u001b[0;34m\u001b[0m\u001b[0m\n\u001b[1;32m    232\u001b[0m     \u001b[0;32melse\u001b[0m\u001b[0;34m:\u001b[0m\u001b[0;34m\u001b[0m\u001b[0;34m\u001b[0m\u001b[0m\n\u001b[0;32m--> 233\u001b[0;31m         \u001b[0mfid\u001b[0m \u001b[0;34m=\u001b[0m \u001b[0mopen\u001b[0m\u001b[0;34m(\u001b[0m\u001b[0mfilename\u001b[0m\u001b[0;34m,\u001b[0m \u001b[0;34m'rb'\u001b[0m\u001b[0;34m)\u001b[0m\u001b[0;34m\u001b[0m\u001b[0;34m\u001b[0m\u001b[0m\n\u001b[0m\u001b[1;32m    234\u001b[0m \u001b[0;34m\u001b[0m\u001b[0m\n\u001b[1;32m    235\u001b[0m     \u001b[0;32mtry\u001b[0m\u001b[0;34m:\u001b[0m\u001b[0;34m\u001b[0m\u001b[0;34m\u001b[0m\u001b[0m\n",
            "\u001b[0;31mFileNotFoundError\u001b[0m: [Errno 2] No such file or directory: '/content/grab_sweep_lento.wav'"
          ]
        }
      ]
    },
    {
      "cell_type": "code",
      "metadata": {
        "id": "0cb3zTfqFKiH",
        "colab_type": "code",
        "outputId": "7bac9177-8654-4213-86c1-95678523a9c1",
        "colab": {
          "base_uri": "https://localhost:8080/",
          "height": 231
        }
      },
      "source": [
        "#plt.plot(wo)\n",
        "\n",
        "#auxUz = uz[]\n",
        "\n",
        "import numpy as np\n",
        "def normalize(datos):\n",
        "    datos -= np.mean(datos)\n",
        "    datos = np.interp(datos, (datos.min(), datos.max()), (-1, +1)) #normalizamos\n",
        "    return datos\n",
        "\n",
        "def NLMS(M, mu, delta, u, d):\n",
        "    w = np.zeros((M,len(u)))\n",
        "    e = np.zeros(len(u))\n",
        "    u_star = np.zeros(M-1)\n",
        "    uaux = np.concatenate((u_star, u), axis=None)\n",
        "    y = np.zeros(len(u))\n",
        "    energias_u = []\n",
        "    \n",
        "    for i in range(0,len(u)):\n",
        "        if i == 0:\n",
        "            e[0] = d[0] \n",
        "            y[0] = 0\n",
        "            w[:,i]=np.zeros(M)\n",
        "        else:\n",
        "            y[i] = np.dot(w[:,i-1].conj().transpose(),uaux[i:i+M])\n",
        "            e[i] = d[i]-y[i]\n",
        "            energias_u.append(np.dot(uaux[i:i+M],uaux[i:i+M]))\n",
        "            nu = mu/(np.dot(uaux[i:i+M],uaux[i:i+M]) + delta)\n",
        "            w[:,i] = w[:,i-1] + nu *  uaux[i:i+M] * (e[i].conj())\n",
        "    return w, np.power(e,2)/len(e), y, np.array(energias_u)\n",
        "\n",
        "\n",
        "\n",
        "\n",
        "\n",
        "\n",
        "auxuz = uZ[len(uZ)//2:len(uZ)//2+1000]\n",
        "auxdz = dZ[len(dZ)//2:len(dZ)//2+1000]\n",
        "\n",
        "mu = 1\n",
        "delta = 1\n",
        "its = 10\n",
        "M = 10\n",
        "\n",
        "w, J, y, energias_u= NLMS(M, mu, delta, np.flip(auxuz), np.flip(auxdz))\n",
        "\n",
        "\n",
        "plt.plot(y)\n",
        "plt.plot(np.flip(auxdz))\n",
        "\n"
      ],
      "execution_count": 2,
      "outputs": [
        {
          "output_type": "error",
          "ename": "NameError",
          "evalue": "ignored",
          "traceback": [
            "\u001b[0;31m---------------------------------------------------------------------------\u001b[0m",
            "\u001b[0;31mNameError\u001b[0m                                 Traceback (most recent call last)",
            "\u001b[0;32m<ipython-input-2-d64f3dc15e79>\u001b[0m in \u001b[0;36m<module>\u001b[0;34m()\u001b[0m\n\u001b[1;32m     37\u001b[0m \u001b[0;34m\u001b[0m\u001b[0m\n\u001b[1;32m     38\u001b[0m \u001b[0;34m\u001b[0m\u001b[0m\n\u001b[0;32m---> 39\u001b[0;31m \u001b[0mauxuz\u001b[0m \u001b[0;34m=\u001b[0m \u001b[0muZ\u001b[0m\u001b[0;34m[\u001b[0m\u001b[0mlen\u001b[0m\u001b[0;34m(\u001b[0m\u001b[0muZ\u001b[0m\u001b[0;34m)\u001b[0m\u001b[0;34m//\u001b[0m\u001b[0;36m2\u001b[0m\u001b[0;34m:\u001b[0m\u001b[0mlen\u001b[0m\u001b[0;34m(\u001b[0m\u001b[0muZ\u001b[0m\u001b[0;34m)\u001b[0m\u001b[0;34m//\u001b[0m\u001b[0;36m2\u001b[0m\u001b[0;34m+\u001b[0m\u001b[0;36m1000\u001b[0m\u001b[0;34m]\u001b[0m\u001b[0;34m\u001b[0m\u001b[0;34m\u001b[0m\u001b[0m\n\u001b[0m\u001b[1;32m     40\u001b[0m \u001b[0mauxdz\u001b[0m \u001b[0;34m=\u001b[0m \u001b[0mdZ\u001b[0m\u001b[0;34m[\u001b[0m\u001b[0mlen\u001b[0m\u001b[0;34m(\u001b[0m\u001b[0mdZ\u001b[0m\u001b[0;34m)\u001b[0m\u001b[0;34m//\u001b[0m\u001b[0;36m2\u001b[0m\u001b[0;34m:\u001b[0m\u001b[0mlen\u001b[0m\u001b[0;34m(\u001b[0m\u001b[0mdZ\u001b[0m\u001b[0;34m)\u001b[0m\u001b[0;34m//\u001b[0m\u001b[0;36m2\u001b[0m\u001b[0;34m+\u001b[0m\u001b[0;36m1000\u001b[0m\u001b[0;34m]\u001b[0m\u001b[0;34m\u001b[0m\u001b[0;34m\u001b[0m\u001b[0m\n\u001b[1;32m     41\u001b[0m \u001b[0;34m\u001b[0m\u001b[0m\n",
            "\u001b[0;31mNameError\u001b[0m: name 'uZ' is not defined"
          ]
        }
      ]
    },
    {
      "cell_type": "code",
      "metadata": {
        "id": "WhguqwtJ-Ayu",
        "colab_type": "code",
        "colab": {}
      },
      "source": [
        "n, bins, patches = plt.hist(x=energias_u, bins=43, color='#0504aa',\n",
        "                            alpha=0.7, rwidth=0.85)\n",
        "plt.grid(axis='y', alpha=0.75)\n",
        "plt.xlabel('Value')\n",
        "plt.ylabel('Frequency')\n",
        "plt.title('Histograma de las energías de u')\n",
        "maxfreq = n.max()\n",
        "# Set a clean upper y-axis limit.\n",
        "plt.ylim(ymax=np.ceil(maxfreq / 10) * 10 if maxfreq % 10 else maxfreq + 10)\n",
        "\n"
      ],
      "execution_count": 0,
      "outputs": []
    },
    {
      "cell_type": "code",
      "metadata": {
        "id": "DcSofBHojOhD",
        "colab_type": "code",
        "colab": {
          "base_uri": "https://localhost:8080/",
          "height": 360
        },
        "outputId": "dae5e22e-2981-41e5-e327-c9f84f4f1d3f"
      },
      "source": [
        "u = 1+np.arange(30) # [u(0), u(1), ... ]\n",
        "\n",
        "def getBlock(M,u):\n",
        "    block = np.zeros((M,M))\n",
        "    for i in range(0,M):\n",
        "        block[:,i] = np.flip(u[i:i+M])\n",
        "    return block\n",
        "\n",
        "def FastBlockLMS(M, u):\n",
        "    N = 2*M\n",
        "    w = np.zeros(N)\n",
        "    u = np.concatenate((np.zeros(M-1),u), axis= None)\n",
        "    \n",
        "    number_of_blocks = len(u)//(2*M-1)\n",
        "    u = u[:(2*M-1)*number_of_blocks] # me quedo con el arreglo que se puede dividir en numero entero de bloques\n",
        "    samples = np.split(u,number_of_blocks) # divido a u en k intervalos\n",
        "    print(samples)\n",
        "    \n",
        "    blocks = []\n",
        "    for i in range(number_of_blocks):\n",
        "        block = getBlock(M,samples[i])\n",
        "        blocks.append(block) \n",
        "        print(block)\n",
        "    \n",
        "    \n",
        "    #print(block)\n",
        "    # con L = M , necesito 2M+1 muestras por cada bloque\n",
        "\n",
        "FastBlockLMS(3,u)"
      ],
      "execution_count": 50,
      "outputs": [
        {
          "output_type": "stream",
          "text": [
            "[array([0., 0., 1., 2., 3.]), array([4., 5., 6., 7., 8.]), array([ 9., 10., 11., 12., 13.]), array([14., 15., 16., 17., 18.]), array([19., 20., 21., 22., 23.]), array([24., 25., 26., 27., 28.])]\n",
            "[[1. 2. 3.]\n",
            " [0. 1. 2.]\n",
            " [0. 0. 1.]]\n",
            "[[6. 7. 8.]\n",
            " [5. 6. 7.]\n",
            " [4. 5. 6.]]\n",
            "[[11. 12. 13.]\n",
            " [10. 11. 12.]\n",
            " [ 9. 10. 11.]]\n",
            "[[16. 17. 18.]\n",
            " [15. 16. 17.]\n",
            " [14. 15. 16.]]\n",
            "[[21. 22. 23.]\n",
            " [20. 21. 22.]\n",
            " [19. 20. 21.]]\n",
            "[[26. 27. 28.]\n",
            " [25. 26. 27.]\n",
            " [24. 25. 26.]]\n"
          ],
          "name": "stdout"
        }
      ]
    }
  ]
}