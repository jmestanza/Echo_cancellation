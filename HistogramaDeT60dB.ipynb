{
  "nbformat": 4,
  "nbformat_minor": 0,
  "metadata": {
    "colab": {
      "name": "HistogramaDeT60dB.ipynb",
      "provenance": [],
      "collapsed_sections": [],
      "machine_shape": "hm",
      "include_colab_link": true
    },
    "kernelspec": {
      "name": "python3",
      "display_name": "Python 3"
    },
    "accelerator": "GPU"
  },
  "cells": [
    {
      "cell_type": "markdown",
      "metadata": {
        "id": "view-in-github",
        "colab_type": "text"
      },
      "source": [
        "<a href=\"https://colab.research.google.com/github/jmestanza/Echo_cancellation/blob/master/HistogramaDeT60dB.ipynb\" target=\"_parent\"><img src=\"https://colab.research.google.com/assets/colab-badge.svg\" alt=\"Open In Colab\"/></a>"
      ]
    },
    {
      "cell_type": "code",
      "metadata": {
        "id": "UBMGUa1lD_0r",
        "colab_type": "code",
        "outputId": "98c1213c-a4e6-4333-db31-01a2ba13b28d",
        "colab": {
          "base_uri": "https://localhost:8080/",
          "height": 193
        }
      },
      "source": [
        "#from numpy import random\n",
        "#!/usr/bin/env python3\n",
        "# -*- coding: utf-8 -*-\n",
        "\"\"\" Example for computing the RIR between several sources and receivers in GPU.\n",
        "\"\"\"\n",
        "!pip install https://github.com/DavidDiazGuerra/gpuRIR/zipball/master\n",
        "\n",
        "import numpy as np\n",
        "import numpy.matlib\n",
        "import matplotlib.pyplot as plt\n",
        "from math import ceil\n",
        "\n",
        "import gpuRIR\n",
        "gpuRIR.activateMixedPrecision(False)\n",
        "\n",
        "room_sz = [3,3,2.5]  # Size of the room [m]\n",
        "nb_src = 1  # Number of sources\n",
        "\n",
        "max_list = []\n",
        "\n",
        "for i in range(100):\n",
        "    x = \"{0:.1f}\".format(np.random.uniform(0.5,2))\n",
        "    y = \"{0:.1f}\".format(np.random.uniform(0.5,2))\n",
        "    z = \"{0:.1f}\".format(np.random.uniform(0.5,1))\n",
        "    x = float(x)\n",
        "    y = float(y)\n",
        "    z = float(z)\n",
        "\n",
        "    pos_src = np.array([[x,y,z]]) # Positions of the sources ([m]\n",
        "    nb_rcv = 1 # Number of receivers\n",
        "    pos_rcv = np.array([[3/2,3/2,2.5/2]])\t # Position of the receivers [m]\n",
        "    orV_rcv = np.matlib.repmat(np.array([0,1,0]), nb_rcv, 1) # Vectors pointing in the same direction than the receivers\n",
        "    mic_pattern = \"card\" # Receiver polar pattern\n",
        "    abs_weights = [0.9]*5+[0.5] # Absortion coefficient ratios of the walls\n",
        "    T60 = 1.0\t # Time for the RIR to reach 60dB of attenuation [s]\n",
        "    att_diff = 15.0\t# Attenuation when start using the diffuse reverberation model [dB]\n",
        "    att_max = 60.0 # Attenuation at the end of the simulation [dB]\n",
        "    fs=16000.0 # Sampling frequency [Hz]\n",
        "\n",
        "    beta = gpuRIR.beta_SabineEstimation(room_sz, T60, abs_weights=abs_weights) # Reflection coefficients\n",
        "    Tdiff= gpuRIR.att2t_SabineEstimator(att_diff, T60) # Time to start the diffuse reverberation model [s]\n",
        "    Tmax = gpuRIR.att2t_SabineEstimator(att_max, T60)\t # Time to stop the simulation [s]\n",
        "    nb_img = gpuRIR.t2n( Tdiff, room_sz )\t# Number of image sources in each dimension\n",
        "    RIRs = gpuRIR.simulateRIR(room_sz, beta, pos_src, pos_rcv, nb_img, Tmax, fs, Tdiff=Tdiff, orV_rcv=orV_rcv, mic_pattern=mic_pattern)\n",
        "\n",
        "    t = np.arange(int(ceil(Tmax * fs))) / fs\n",
        "    impulse_response =RIRs.reshape(nb_src*nb_rcv, -1).transpose()\n",
        "    max_list.append(np.amax(impulse_response))\n",
        "     \n",
        "    #plt.plot(t,impulse_response )\n",
        "    #plt.show()"
      ],
      "execution_count": 34,
      "outputs": [
        {
          "output_type": "stream",
          "text": [
            "Collecting https://github.com/DavidDiazGuerra/gpuRIR/zipball/master\n",
            "\u001b[?25l  Downloading https://github.com/DavidDiazGuerra/gpuRIR/zipball/master\n",
            "\u001b[K     - 706kB 541kB/s\n",
            "\u001b[?25hRequirement already satisfied (use --upgrade to upgrade): gpuRIR==1.2.0 from https://github.com/DavidDiazGuerra/gpuRIR/zipball/master in /usr/local/lib/python3.6/dist-packages\n",
            "Building wheels for collected packages: gpuRIR\n",
            "  Building wheel for gpuRIR (setup.py) ... \u001b[?25l\u001b[?25hdone\n",
            "  Created wheel for gpuRIR: filename=gpuRIR-1.2.0-cp36-cp36m-linux_x86_64.whl size=907221 sha256=9c3a896cd9d7a85dd6e7d4c4d825e611c014dfb1ea0e0b496b4edfc65e167346\n",
            "  Stored in directory: /tmp/pip-ephem-wheel-cache-5zgtptsu/wheels/d6/80/3f/6af7d0e500b38d174f793d6b8ff6a0984b1eab8b2c8f6665ae\n",
            "Successfully built gpuRIR\n"
          ],
          "name": "stdout"
        }
      ]
    },
    {
      "cell_type": "code",
      "metadata": {
        "id": "lUhYZIYTDyLB",
        "colab_type": "code",
        "colab": {}
      },
      "source": [
        "from IPython.display import clear_output\n",
        "\n",
        "!wget \"https://raw.githubusercontent.com/jmestanza/Guia_2_PASA/master/data/originales/music_original.wav\"\n",
        "!wget \"https://raw.githubusercontent.com/jmestanza/Guia_2_PASA/master/data/grabados/grab_cassiopeia.wav\"\n",
        "\n",
        "clear_output()"
      ],
      "execution_count": 0,
      "outputs": []
    },
    {
      "cell_type": "code",
      "metadata": {
        "id": "3Zz8j9jyBbqj",
        "colab_type": "code",
        "colab": {
          "base_uri": "https://localhost:8080/",
          "height": 72
        },
        "outputId": "438c555b-3aec-447f-e73b-b7e0cb4f2025"
      },
      "source": [
        "import math\n",
        "from scipy.signal import find_peaks\n",
        "!pip install wavio\n",
        "import wavio\n",
        "import numpy as np\n",
        "import matplotlib.pyplot as plt\n",
        "\n",
        "def get_mono_array2(stereo_file_name):\n",
        "    file = wavio.read(stereo_file_name)\n",
        "    return file.rate, file.data\n",
        "\n",
        "def get60dbtime(wav_file_name):\n",
        "    fs, arr_list = get_mono_array2(wav_file_name)\n",
        "    #plt.plot(arr_list)\n",
        "    arr = np.array(arr_list)\n",
        "    max_abs = abs(np.amax(arr))\n",
        "    min_abs = abs(np.amin(arr))\n",
        "    abs_max = max(max_abs,min_abs)\n",
        "    abs_60db = abs_max/(10**(60/20))\n",
        "    found = False\n",
        "    index_found = None\n",
        "    i = 0\n",
        "    index_list = []\n",
        "    while i< len(arr):\n",
        "        if abs_60db <= abs(arr[i]) :\n",
        "            index_list.append(i)\n",
        "        i+=1\n",
        "    #plt.plot(arr_list)\n",
        "    #plt.axvline(x = index_list[-1],linewidth=4, color='r')\n",
        "    #print(index_list)\n",
        "    time_60db = int(index_list[-1])/fs\n",
        "    return time_60db,fs"
      ],
      "execution_count": 35,
      "outputs": [
        {
          "output_type": "stream",
          "text": [
            "Requirement already satisfied: wavio in /usr/local/lib/python3.6/dist-packages (0.0.4)\n",
            "Requirement already satisfied: numpy>=1.6.0 in /usr/local/lib/python3.6/dist-packages (from wavio) (1.17.3)\n"
          ],
          "name": "stdout"
        }
      ]
    },
    {
      "cell_type": "code",
      "metadata": {
        "id": "Yl_VSGJrsyPM",
        "colab_type": "code",
        "colab": {
          "base_uri": "https://localhost:8080/",
          "height": 69
        },
        "outputId": "ddae50e5-f86a-4fa0-d0ac-7566e5b2e8e8"
      },
      "source": [
        "t60_list = []\n",
        "t60, fs = get60dbtime(\"Room001-00001.wav\")\n",
        "print(\"Room001-00001.wav con \",t60,\"segs a \", fs,\"Hz\")\n",
        "t60_list.append(t60)\n",
        "t60, fs = get60dbtime(\"00x00y.wav\")\n",
        "print(\"Room001-00001.wav con \",t60,\"segs a \", fs,\"Hz\")\n",
        "t60_list.append(t60)\n",
        "t60, fs = get60dbtime(\"Room001-00002.wav\")\n",
        "print(\"Room001-00001.wav con \",t60,\"segs a \", fs,\"Hz\")\n",
        "t60_list.append(t60)"
      ],
      "execution_count": 36,
      "outputs": [
        {
          "output_type": "stream",
          "text": [
            "Room001-00001.wav con  0.157875 segs a  16000 Hz\n",
            "Room001-00001.wav con  1.9999895833333334 segs a  96000 Hz\n",
            "Room001-00001.wav con  0.2835 segs a  16000 Hz\n"
          ],
          "name": "stdout"
        }
      ]
    },
    {
      "cell_type": "code",
      "metadata": {
        "id": "mO96dopKCPgD",
        "colab_type": "code",
        "colab": {
          "base_uri": "https://localhost:8080/",
          "height": 313
        },
        "outputId": "05b53272-7fc5-48bd-bdcd-472afff107cd"
      },
      "source": [
        "n, bins, patches = plt.hist(x=t60_list, bins=100, color='#0504aa',\n",
        "                            alpha=0.7, rwidth=0.85)\n",
        "plt.grid(axis='y', alpha=0.75)\n",
        "plt.xlabel('Value')\n",
        "plt.ylabel('Frequency')\n",
        "plt.title('Histograma de los tiempos de 60dB')\n",
        "maxfreq = n.max()\n",
        "plt.ylim(ymax=np.ceil(maxfreq / 10) * 10 if maxfreq % 10 else maxfreq + 10)"
      ],
      "execution_count": 37,
      "outputs": [
        {
          "output_type": "execute_result",
          "data": {
            "text/plain": [
              "(0.0, 10.0)"
            ]
          },
          "metadata": {
            "tags": []
          },
          "execution_count": 37
        },
        {
          "output_type": "display_data",
          "data": {
            "image/png": "[encoded data removed]",
            "text/plain": [
              "<Figure size 432x288 with 1 Axes>"
            ]
          },
          "metadata": {
            "tags": []
          }
        }
      ]
    }
  ]
}