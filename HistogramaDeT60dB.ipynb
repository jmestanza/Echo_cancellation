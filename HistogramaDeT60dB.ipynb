{
  "nbformat": 4,
  "nbformat_minor": 0,
  "metadata": {
    "colab": {
      "name": "HistogramaDeT60dB.ipynb",
      "provenance": [],
      "collapsed_sections": [],
      "machine_shape": "hm",
      "include_colab_link": true
    },
    "kernelspec": {
      "name": "python3",
      "display_name": "Python 3"
    },
    "accelerator": "GPU"
  },
  "cells": [
    {
      "cell_type": "markdown",
      "metadata": {
        "id": "view-in-github",
        "colab_type": "text"
      },
      "source": [
        "<a href=\"https://colab.research.google.com/github/jmestanza/Echo_cancellation/blob/master/HistogramaDeT60dB.ipynb\" target=\"_parent\"><img src=\"https://colab.research.google.com/assets/colab-badge.svg\" alt=\"Open In Colab\"/></a>"
      ]
    },
    {
      "cell_type": "code",
      "metadata": {
        "id": "UBMGUa1lD_0r",
        "colab_type": "code",
        "outputId": "84df6164-732d-40c6-ce64-af6583d09d21",
        "colab": {
          "base_uri": "https://localhost:8080/",
          "height": 211
        }
      },
      "source": [
        "%cd /content/\n",
        "#from numpy import random\n",
        "#!/usr/bin/env python3\n",
        "# -*- coding: utf-8 -*-\n",
        "\"\"\" Example for computing the RIR between several sources and receivers in GPU.\n",
        "\"\"\"\n",
        "!pip install https://github.com/DavidDiazGuerra/gpuRIR/zipball/master\n",
        "\n",
        "import numpy as np\n",
        "import numpy.matlib\n",
        "import matplotlib.pyplot as plt\n",
        "from math import ceil\n",
        "\n",
        "import gpuRIR\n",
        "gpuRIR.activateMixedPrecision(False)\n",
        "\n",
        "room_sz = [3,3,2.5]  # Size of the room [m]\n",
        "nb_src = 1  # Number of sources\n",
        "\n",
        "max_list = []\n",
        "\n",
        "for i in range(100):\n",
        "    x = \"{0:.1f}\".format(np.random.uniform(0.5,2))\n",
        "    y = \"{0:.1f}\".format(np.random.uniform(0.5,2))\n",
        "    z = \"{0:.1f}\".format(np.random.uniform(0.5,1))\n",
        "    x = float(x)\n",
        "    y = float(y)\n",
        "    z = float(z)\n",
        "\n",
        "    pos_src = np.array([[x,y,z]]) # Positions of the sources ([m]\n",
        "    nb_rcv = 1 # Number of receivers\n",
        "    pos_rcv = np.array([[3/2,3/2,2.5/2]])\t # Position of the receivers [m]\n",
        "    orV_rcv = np.matlib.repmat(np.array([0,1,0]), nb_rcv, 1) # Vectors pointing in the same direction than the receivers\n",
        "    mic_pattern = \"card\" # Receiver polar pattern\n",
        "    abs_weights = [0.9]*5+[0.5] # Absortion coefficient ratios of the walls\n",
        "    T60 = 1.0\t # Time for the RIR to reach 60dB of attenuation [s]\n",
        "    att_diff = 15.0\t# Attenuation when start using the diffuse reverberation model [dB]\n",
        "    att_max = 60.0 # Attenuation at the end of the simulation [dB]\n",
        "    fs=16000.0 # Sampling frequency [Hz]\n",
        "\n",
        "    beta = gpuRIR.beta_SabineEstimation(room_sz, T60, abs_weights=abs_weights) # Reflection coefficients\n",
        "    Tdiff= gpuRIR.att2t_SabineEstimator(att_diff, T60) # Time to start the diffuse reverberation model [s]\n",
        "    Tmax = gpuRIR.att2t_SabineEstimator(att_max, T60)\t # Time to stop the simulation [s]\n",
        "    nb_img = gpuRIR.t2n( Tdiff, room_sz )\t# Number of image sources in each dimension\n",
        "    RIRs = gpuRIR.simulateRIR(room_sz, beta, pos_src, pos_rcv, nb_img, Tmax, fs, Tdiff=Tdiff, orV_rcv=orV_rcv, mic_pattern=mic_pattern)\n",
        "\n",
        "    t = np.arange(int(ceil(Tmax * fs))) / fs\n",
        "    impulse_response =RIRs.reshape(nb_src*nb_rcv, -1).transpose()\n",
        "    max_list.append(np.amax(impulse_response))\n",
        "     \n",
        "    #plt.plot(t,impulse_response )\n",
        "    #plt.show()"
      ],
      "execution_count": 1,
      "outputs": [
        {
          "output_type": "stream",
          "text": [
            "/content\n",
            "Collecting https://github.com/DavidDiazGuerra/gpuRIR/zipball/master\n",
            "\u001b[?25l  Downloading https://github.com/DavidDiazGuerra/gpuRIR/zipball/master\n",
            "\u001b[K     - 706kB 540kB/s\n",
            "\u001b[?25hRequirement already satisfied (use --upgrade to upgrade): gpuRIR==1.2.0 from https://github.com/DavidDiazGuerra/gpuRIR/zipball/master in /usr/local/lib/python3.6/dist-packages\n",
            "Building wheels for collected packages: gpuRIR\n",
            "  Building wheel for gpuRIR (setup.py) ... \u001b[?25l\u001b[?25hdone\n",
            "  Created wheel for gpuRIR: filename=gpuRIR-1.2.0-cp36-cp36m-linux_x86_64.whl size=907218 sha256=8a44be7710c9e15d27d1a9f7c6c73f5cc8725cf1ee921f50a8a9cf45e1d00260\n",
            "  Stored in directory: /tmp/pip-ephem-wheel-cache-7ayfm2wd/wheels/d6/80/3f/6af7d0e500b38d174f793d6b8ff6a0984b1eab8b2c8f6665ae\n",
            "Successfully built gpuRIR\n"
          ],
          "name": "stdout"
        }
      ]
    },
    {
      "cell_type": "code",
      "metadata": {
        "id": "3Zz8j9jyBbqj",
        "colab_type": "code",
        "colab": {
          "base_uri": "https://localhost:8080/",
          "height": 72
        },
        "outputId": "11d15d82-88a4-423e-c3cf-8ce7cf11129c"
      },
      "source": [
        "import math\n",
        "from scipy.signal import find_peaks\n",
        "!pip install wavio\n",
        "import wavio\n",
        "import numpy as np\n",
        "import matplotlib.pyplot as plt\n",
        "\n",
        "def get_mono_array2(stereo_file_name):\n",
        "    file = wavio.read(stereo_file_name)\n",
        "    return file.rate, file.data\n",
        "\n",
        "def get60dbtime(wav_file_name):\n",
        "    fs, arr_list = get_mono_array2(wav_file_name)\n",
        "    #plt.plot(arr_list)\n",
        "    arr = np.array(arr_list)\n",
        "    max_abs = abs(np.amax(arr))\n",
        "    min_abs = abs(np.amin(arr))\n",
        "    abs_max = max(max_abs,min_abs)\n",
        "    abs_60db = abs_max/(10**(60/20))\n",
        "    found = False\n",
        "    index_found = None\n",
        "    i = 0\n",
        "    index_list = []\n",
        "    while i< len(arr):\n",
        "        if abs_60db <= abs(arr[i]) :\n",
        "            index_list.append(i)\n",
        "        i+=1\n",
        "    #plt.plot(arr_list)\n",
        "    #plt.axvline(x = index_list[-1],linewidth=4, color='r')\n",
        "    #print(index_list)\n",
        "    time_60db = int(index_list[-1])/fs\n",
        "    return time_60db,fs"
      ],
      "execution_count": 2,
      "outputs": [
        {
          "output_type": "stream",
          "text": [
            "Requirement already satisfied: wavio in /usr/local/lib/python3.6/dist-packages (0.0.4)\n",
            "Requirement already satisfied: numpy>=1.6.0 in /usr/local/lib/python3.6/dist-packages (from wavio) (1.17.3)\n"
          ],
          "name": "stdout"
        }
      ]
    },
    {
      "cell_type": "code",
      "metadata": {
        "id": "Hj6MU9oJOaRX",
        "colab_type": "code",
        "colab": {
          "base_uri": "https://localhost:8080/",
          "height": 141
        },
        "outputId": "afa6c687-6996-4ed7-acc5-69b8b2e4b60e"
      },
      "source": [
        "from google.colab import drive\n",
        "drive.mount('/content/drive',force_remount=True)\n",
        "%cd \"/content/drive/My Drive\"\n",
        "# Downloading the repo on my drive\n",
        "!git clone https://github.com/jmestanza/Echo_cancellation.git\n",
        "%cd \"/content/drive/My Drive/Echo_cancellation/RIRs/classroom_omni\"\n",
        "\n",
        "import os\n",
        "mypath = os.getcwd()\n",
        "from os import listdir\n",
        "from os.path import isfile, join\n",
        "onlyfiles = [f for f in listdir(mypath) if isfile(join(mypath, f))]\n",
        "print(onlyfiles)\n",
        "t60_list = []\n",
        "for i in range(len(onlyfiles)):\n",
        "    t60, fs = get60dbtime(onlyfiles[i])\n",
        "    t60_list.append(t60)\n",
        "%cd \"/content/\" \n",
        "# si no anda esta celda, reiniciar el entorno de ejecucion"
      ],
      "execution_count": 3,
      "outputs": [
        {
          "output_type": "stream",
          "text": [
            "Mounted at /content/drive\n",
            "/content/drive/My Drive\n",
            "fatal: destination path 'Echo_cancellation' already exists and is not an empty directory.\n",
            "/content/drive/My Drive/Echo_cancellation/RIRs/classroom_omni\n",
            "['00x00y.wav', '00x05y.wav', '00x10y.wav', '00x15y.wav', '00x20y.wav', '00x25y.wav', '00x30y.wav', '00x35y.wav', '00x40y.wav', '00x45y.wav', '05x00y.wav', '05x05y.wav', '05x10y.wav', '05x15y.wav', '05x20y.wav', '05x25y.wav', '05x30y.wav', '05x35y.wav', '05x40y.wav', '05x45y.wav', '10x00y.wav', '10x05y.wav', '10x10y.wav', '10x15y.wav', '10x20y.wav', '10x25y.wav', '10x30y.wav', '10x35y.wav', '10x40y.wav', '10x45y.wav', '15x00y.wav', '15x05y.wav', '15x10y.wav', '15x15y.wav', '15x20y.wav', '15x25y.wav', '15x30y.wav', '15x35y.wav', '15x40y.wav', '15x45y.wav', '20x00y.wav', '20x05y.wav', '20x10y.wav', '20x15y.wav', '20x20y.wav', '20x25y.wav', '20x30y.wav', '20x35y.wav', '20x40y.wav', '20x45y.wav', '25x00y.wav', '25x05y.wav', '25x10y.wav', '25x15y.wav', '25x20y.wav', '25x25y.wav', '25x30y.wav', '25x35y.wav', '25x40y.wav', '25x45y.wav', '30x00y.wav', '30x05y.wav', '30x10y.wav', '30x15y.wav', '30x20y.wav', '30x25y.wav', '30x30y.wav', '30x35y.wav', '30x40y.wav', '30x45y.wav', '35x00y.wav', '35x05y.wav', '35x10y.wav', '35x15y.wav', '35x20y.wav', '35x25y.wav', '35x30y.wav', '35x35y.wav', '35x40y.wav', '35x45y.wav', '40x00y.wav', '40x05y.wav', '40x10y.wav', '40x15y.wav', '40x20y.wav', '40x25y.wav', '40x30y.wav', '40x35y.wav', '40x40y.wav', '40x45y.wav', '45x00y.wav', '45x05y.wav', '45x10y.wav', '45x15y.wav', '45x20y.wav', '45x25y.wav', '45x30y.wav', '45x35y.wav', '45x40y.wav', '45x45y.wav', '50x00y.wav', '50x05y.wav', '50x10y.wav', '50x15y.wav', '50x20y.wav', '50x25y.wav', '50x30y.wav', '50x35y.wav', '50x40y.wav', '50x45y.wav', '55x00y.wav', '55x05y.wav', '55x10y.wav', '55x15y.wav', '55x20y.wav', '55x25y.wav', '55x30y.wav', '55x35y.wav', '55x40y.wav', '55x45y.wav', '60x00y.wav', '60x05y.wav', '60x10y.wav', '60x15y.wav', '60x20y.wav', '60x25y.wav', '60x30y.wav', '60x35y.wav', '60x40y.wav', '60x45y.wav']\n",
            "/content\n"
          ],
          "name": "stdout"
        }
      ]
    },
    {
      "cell_type": "code",
      "metadata": {
        "id": "mO96dopKCPgD",
        "colab_type": "code",
        "colab": {
          "base_uri": "https://localhost:8080/",
          "height": 313
        },
        "outputId": "ac6cdd01-1ec1-4b95-8674-0ac4731866be"
      },
      "source": [
        "n, bins, patches = plt.hist(x=t60_list, bins=100, color='#0504aa',\n",
        "                            alpha=0.7, rwidth=0.85)\n",
        "plt.grid(axis='y', alpha=0.75)\n",
        "plt.xlabel('Value')\n",
        "plt.ylabel('Frequency')\n",
        "plt.title('Histograma de los tiempos de 60dB')\n",
        "maxfreq = n.max()\n",
        "plt.ylim(ymax=np.ceil(maxfreq / 10) * 10 if maxfreq % 10 else maxfreq + 10)"
      ],
      "execution_count": 4,
      "outputs": [
        {
          "output_type": "execute_result",
          "data": {
            "text/plain": [
              "(0.0, 90.0)"
            ]
          },
          "metadata": {
            "tags": []
          },
          "execution_count": 4
        },
        {
          "output_type": "display_data",
          "data": {
            "image/png": "[encoded data removed]",
            "text/plain": [
              "<Figure size 432x288 with 1 Axes>"
            ]
          },
          "metadata": {
            "tags": []
          }
        }
      ]
    }
  ]
}